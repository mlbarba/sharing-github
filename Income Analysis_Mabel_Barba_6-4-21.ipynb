{
 "cells": [
  {
   "cell_type": "markdown",
   "metadata": {},
   "source": [
    "# Predicting if Income Exceeds 50,000US dollars per year\n",
    "#### The dataset is credited to Ronny Kohavi and Barry Becker and was drawn from the 1994 United States Census Bureau data and involves using personal details such as education level to predict whether an individual will earn more or less than $50,000 per year.\n",
    "\n"
   ]
  },
  {
   "cell_type": "markdown",
   "metadata": {},
   "source": [
    "\n",
    "### Python Capstone by Mabel Barba\n"
   ]
  },
  {
   "cell_type": "markdown",
   "metadata": {},
   "source": [
    "## I Data Collection"
   ]
  },
  {
   "cell_type": "code",
   "execution_count": 253,
   "metadata": {},
   "outputs": [],
   "source": [
    "import numpy as np # Python linear algebra library\n",
    "import pandas as pd # Python data processing library \n",
    "\n",
    "# Libraries for data visualization\n",
    "import matplotlib.pyplot as plt\n",
    "import seaborn as sns \n",
    "%matplotlib inline\n",
    "from pandas.plotting import scatter_matrix\n",
    "from IPython.display import Markdown, display\n",
    "\n",
    "def printmd(string):\n",
    "    display(Markdown(string))\n",
    "#A Counter is a dict subclass for counting hashable objects. It is a collection where elements are stored as dictionary keys and their counts are stored as dictionary values. Counts are allowed to be any integer value including zero or negative counts. \n",
    "#the Counter class is similar to bags or multisets in other languages.\n",
    "from collections import Counter \n",
    "\n",
    "# Classification Algorithms\n",
    "import sklearn\n",
    "from sklearn.linear_model import LogisticRegression\n",
    "from sklearn.ensemble import RandomForestClassifier\n",
    "from sklearn.neural_network import MLPClassifier\n",
    "from sklearn.dummy import DummyClassifier\n",
    "from sklearn.metrics import confusion_matrix\n",
    "from sklearn.metrics import recall_score, precision_score, accuracy_score,f1_score\n",
    "\n",
    "# Import scikit_learn module to split the dataset into train.test sub-datasets\n",
    "from sklearn.model_selection import train_test_split \n",
    "# Import scikit_learn module for k-fold cross validation\n",
    "from sklearn.model_selection import KFold\n",
    "from sklearn.model_selection import cross_val_score\n",
    "import sklearn.tree as tree\n",
    "\n",
    "# import the metrics class\n",
    "from sklearn import metrics\n",
    "from sklearn.metrics import roc_curve, roc_auc_score, auc\n",
    "from sklearn.metrics import r2_score, mean_squared_error\n",
    "from sklearn.metrics import accuracy_score\n",
    "from sklearn.preprocessing import label_binarize\n",
    "\n",
    "# import stats for accuracy \n",
    "import statsmodels.api as sm\n",
    "\n",
    "import statsmodels as sm\n",
    "import sklearn as skl\n",
    "import sklearn.preprocessing as preprocessing\n",
    "\n",
    "from sklearn import svm\n",
    "from sklearn import tree"
   ]
  },
  {
   "cell_type": "code",
   "execution_count": 254,
   "metadata": {},
   "outputs": [
    {
     "data": {
      "text/html": [
       "<div>\n",
       "<style scoped>\n",
       "    .dataframe tbody tr th:only-of-type {\n",
       "        vertical-align: middle;\n",
       "    }\n",
       "\n",
       "    .dataframe tbody tr th {\n",
       "        vertical-align: top;\n",
       "    }\n",
       "\n",
       "    .dataframe thead th {\n",
       "        text-align: right;\n",
       "    }\n",
       "</style>\n",
       "<table border=\"1\" class=\"dataframe\">\n",
       "  <thead>\n",
       "    <tr style=\"text-align: right;\">\n",
       "      <th></th>\n",
       "      <th>Age</th>\n",
       "      <th>Workclass</th>\n",
       "      <th>Fnlwgt</th>\n",
       "      <th>Education</th>\n",
       "      <th>EducationNum</th>\n",
       "      <th>Marital</th>\n",
       "      <th>Occupation</th>\n",
       "      <th>Relationship</th>\n",
       "      <th>Race</th>\n",
       "      <th>Sex</th>\n",
       "      <th>CapitalGain</th>\n",
       "      <th>CapitalLoss</th>\n",
       "      <th>HoursPerWeek</th>\n",
       "      <th>NativeCountry</th>\n",
       "      <th>Income</th>\n",
       "    </tr>\n",
       "  </thead>\n",
       "  <tbody>\n",
       "    <tr>\n",
       "      <th>0</th>\n",
       "      <td>39</td>\n",
       "      <td>State-gov</td>\n",
       "      <td>77516</td>\n",
       "      <td>Bachelors</td>\n",
       "      <td>13</td>\n",
       "      <td>Never-married</td>\n",
       "      <td>Adm-clerical</td>\n",
       "      <td>Not-in-family</td>\n",
       "      <td>White</td>\n",
       "      <td>Male</td>\n",
       "      <td>2174</td>\n",
       "      <td>0</td>\n",
       "      <td>40</td>\n",
       "      <td>United-States</td>\n",
       "      <td>&lt;=50K</td>\n",
       "    </tr>\n",
       "    <tr>\n",
       "      <th>1</th>\n",
       "      <td>50</td>\n",
       "      <td>Self-emp-not-inc</td>\n",
       "      <td>83311</td>\n",
       "      <td>Bachelors</td>\n",
       "      <td>13</td>\n",
       "      <td>Married-civ-spouse</td>\n",
       "      <td>Exec-managerial</td>\n",
       "      <td>Husband</td>\n",
       "      <td>White</td>\n",
       "      <td>Male</td>\n",
       "      <td>0</td>\n",
       "      <td>0</td>\n",
       "      <td>13</td>\n",
       "      <td>United-States</td>\n",
       "      <td>&lt;=50K</td>\n",
       "    </tr>\n",
       "    <tr>\n",
       "      <th>2</th>\n",
       "      <td>38</td>\n",
       "      <td>Private</td>\n",
       "      <td>215646</td>\n",
       "      <td>HS-grad</td>\n",
       "      <td>9</td>\n",
       "      <td>Divorced</td>\n",
       "      <td>Handlers-cleaners</td>\n",
       "      <td>Not-in-family</td>\n",
       "      <td>White</td>\n",
       "      <td>Male</td>\n",
       "      <td>0</td>\n",
       "      <td>0</td>\n",
       "      <td>40</td>\n",
       "      <td>United-States</td>\n",
       "      <td>&lt;=50K</td>\n",
       "    </tr>\n",
       "  </tbody>\n",
       "</table>\n",
       "</div>"
      ],
      "text/plain": [
       "   Age         Workclass  Fnlwgt  Education  EducationNum             Marital  \\\n",
       "0   39         State-gov   77516  Bachelors            13       Never-married   \n",
       "1   50  Self-emp-not-inc   83311  Bachelors            13  Married-civ-spouse   \n",
       "2   38           Private  215646    HS-grad             9            Divorced   \n",
       "\n",
       "          Occupation   Relationship   Race   Sex  CapitalGain  CapitalLoss  \\\n",
       "0       Adm-clerical  Not-in-family  White  Male         2174            0   \n",
       "1    Exec-managerial        Husband  White  Male            0            0   \n",
       "2  Handlers-cleaners  Not-in-family  White  Male            0            0   \n",
       "\n",
       "   HoursPerWeek  NativeCountry Income  \n",
       "0            40  United-States  <=50K  \n",
       "1            13  United-States  <=50K  \n",
       "2            40  United-States  <=50K  "
      ]
     },
     "execution_count": 254,
     "metadata": {},
     "output_type": "execute_result"
    }
   ],
   "source": [
    "#Column names\n",
    "col_Names=[\"Age\", \"Workclass\", \"Fnlwgt\",\"Education\", \"EducationNum\", \"Marital\", \"Occupation\", \"Relationship\", \"Race\", \"Sex\", \"CapitalGain\", \"CapitalLoss\", \"HoursPerWeek\", \"NativeCountry\", \"Income\"]\n",
    "\n",
    "#Importing file\n",
    "#Missing values detected\n",
    "census = pd.read_csv(\"census.txt\", sep=',\\s+', delimiter=',', encoding=\"utf-8\", skipinitialspace=True, header=None, names=col_Names, na_values=[\"?\"])\n",
    "\n",
    "census.head(3)             "
   ]
  },
  {
   "cell_type": "code",
   "execution_count": 255,
   "metadata": {},
   "outputs": [
    {
     "name": "stdout",
     "output_type": "stream",
     "text": [
      "<class 'pandas.core.frame.DataFrame'>\n",
      "RangeIndex: 48842 entries, 0 to 48841\n",
      "Data columns (total 15 columns):\n",
      " #   Column         Non-Null Count  Dtype \n",
      "---  ------         --------------  ----- \n",
      " 0   Age            48842 non-null  int64 \n",
      " 1   Workclass      46043 non-null  object\n",
      " 2   Fnlwgt         48842 non-null  int64 \n",
      " 3   Education      48842 non-null  object\n",
      " 4   EducationNum   48842 non-null  int64 \n",
      " 5   Marital        48842 non-null  object\n",
      " 6   Occupation     46033 non-null  object\n",
      " 7   Relationship   48842 non-null  object\n",
      " 8   Race           48842 non-null  object\n",
      " 9   Sex            48842 non-null  object\n",
      " 10  CapitalGain    48842 non-null  int64 \n",
      " 11  CapitalLoss    48842 non-null  int64 \n",
      " 12  HoursPerWeek   48842 non-null  int64 \n",
      " 13  NativeCountry  47985 non-null  object\n",
      " 14  Income         48842 non-null  object\n",
      "dtypes: int64(6), object(9)\n",
      "memory usage: 5.6+ MB\n"
     ]
    }
   ],
   "source": [
    "# Data set info\n",
    "census.info()"
   ]
  },
  {
   "cell_type": "code",
   "execution_count": 256,
   "metadata": {},
   "outputs": [
    {
     "name": "stdout",
     "output_type": "stream",
     "text": [
      "Total number of records: 48842\n",
      "Total number of features: 15\n",
      "Individuals making more than $50k: 37155\n",
      "Individuals making at most $50k: 11687\n",
      "Percentage of individuals making more than $50k: 76.07%\n"
     ]
    }
   ],
   "source": [
    "# Total number of records\n",
    "n_records = census.shape[0]\n",
    "\n",
    "# Total number of features\n",
    "n_features = census.shape[1]\n",
    "\n",
    "# Number of records where individual's income is more than $50,000\n",
    "n_greater_50k = census[census['Income'] == '<=50K'].shape[0]\n",
    "\n",
    "# Number of records where individual's income is at most $50,000\n",
    "n_at_most_50k = census[census['Income'] == '>50K'].shape[0]\n",
    "\n",
    "# Percentage of individuals whose income is more than $50,000\n",
    "greater_percent =  (n_greater_50k / n_records) * 100\n",
    "\n",
    "# Print the results\n",
    "print(\"Total number of records: {}\".format(n_records))\n",
    "print(\"Total number of features: {}\".format(n_features))\n",
    "print(\"Individuals making more than $50k: {}\".format(n_greater_50k))\n",
    "print(\"Individuals making at most $50k: {}\".format(n_at_most_50k))\n",
    "print(\"Percentage of individuals making more than $50k: {:.2f}%\".format(greater_percent))"
   ]
  },
  {
   "cell_type": "code",
   "execution_count": 257,
   "metadata": {},
   "outputs": [
    {
     "data": {
      "text/plain": [
       "Private             33906\n",
       "Self-emp-not-inc     3862\n",
       "Local-gov            3136\n",
       "State-gov            1981\n",
       "Self-emp-inc         1695\n",
       "Federal-gov          1432\n",
       "Without-pay            21\n",
       "Never-worked           10\n",
       "Name: Workclass, dtype: int64"
      ]
     },
     "execution_count": 257,
     "metadata": {},
     "output_type": "execute_result"
    }
   ],
   "source": [
    "# Confirming there are no \"?\"\n",
    "census.Workclass.value_counts()"
   ]
  },
  {
   "cell_type": "markdown",
   "metadata": {},
   "source": [
    "## II Preliminary Data Exploration & Preparation"
   ]
  },
  {
   "cell_type": "code",
   "execution_count": 258,
   "metadata": {},
   "outputs": [
    {
     "data": {
      "text/plain": [
       "(48842, 15)"
      ]
     },
     "execution_count": 258,
     "metadata": {},
     "output_type": "execute_result"
    }
   ],
   "source": [
    "#Dataset Dimension\n",
    "census.shape"
   ]
  },
  {
   "cell_type": "code",
   "execution_count": 259,
   "metadata": {},
   "outputs": [
    {
     "data": {
      "text/html": [
       "<div>\n",
       "<style scoped>\n",
       "    .dataframe tbody tr th:only-of-type {\n",
       "        vertical-align: middle;\n",
       "    }\n",
       "\n",
       "    .dataframe tbody tr th {\n",
       "        vertical-align: top;\n",
       "    }\n",
       "\n",
       "    .dataframe thead th {\n",
       "        text-align: right;\n",
       "    }\n",
       "</style>\n",
       "<table border=\"1\" class=\"dataframe\">\n",
       "  <thead>\n",
       "    <tr style=\"text-align: right;\">\n",
       "      <th></th>\n",
       "      <th>Age</th>\n",
       "      <th>Fnlwgt</th>\n",
       "      <th>EducationNum</th>\n",
       "      <th>CapitalGain</th>\n",
       "      <th>CapitalLoss</th>\n",
       "      <th>HoursPerWeek</th>\n",
       "    </tr>\n",
       "  </thead>\n",
       "  <tbody>\n",
       "    <tr>\n",
       "      <th>count</th>\n",
       "      <td>48842.000000</td>\n",
       "      <td>4.884200e+04</td>\n",
       "      <td>48842.000000</td>\n",
       "      <td>48842.000000</td>\n",
       "      <td>48842.000000</td>\n",
       "      <td>48842.000000</td>\n",
       "    </tr>\n",
       "    <tr>\n",
       "      <th>mean</th>\n",
       "      <td>38.643585</td>\n",
       "      <td>1.896641e+05</td>\n",
       "      <td>10.078089</td>\n",
       "      <td>1079.067626</td>\n",
       "      <td>87.502314</td>\n",
       "      <td>40.422382</td>\n",
       "    </tr>\n",
       "    <tr>\n",
       "      <th>std</th>\n",
       "      <td>13.710510</td>\n",
       "      <td>1.056040e+05</td>\n",
       "      <td>2.570973</td>\n",
       "      <td>7452.019058</td>\n",
       "      <td>403.004552</td>\n",
       "      <td>12.391444</td>\n",
       "    </tr>\n",
       "    <tr>\n",
       "      <th>min</th>\n",
       "      <td>17.000000</td>\n",
       "      <td>1.228500e+04</td>\n",
       "      <td>1.000000</td>\n",
       "      <td>0.000000</td>\n",
       "      <td>0.000000</td>\n",
       "      <td>1.000000</td>\n",
       "    </tr>\n",
       "    <tr>\n",
       "      <th>25%</th>\n",
       "      <td>28.000000</td>\n",
       "      <td>1.175505e+05</td>\n",
       "      <td>9.000000</td>\n",
       "      <td>0.000000</td>\n",
       "      <td>0.000000</td>\n",
       "      <td>40.000000</td>\n",
       "    </tr>\n",
       "    <tr>\n",
       "      <th>50%</th>\n",
       "      <td>37.000000</td>\n",
       "      <td>1.781445e+05</td>\n",
       "      <td>10.000000</td>\n",
       "      <td>0.000000</td>\n",
       "      <td>0.000000</td>\n",
       "      <td>40.000000</td>\n",
       "    </tr>\n",
       "    <tr>\n",
       "      <th>75%</th>\n",
       "      <td>48.000000</td>\n",
       "      <td>2.376420e+05</td>\n",
       "      <td>12.000000</td>\n",
       "      <td>0.000000</td>\n",
       "      <td>0.000000</td>\n",
       "      <td>45.000000</td>\n",
       "    </tr>\n",
       "    <tr>\n",
       "      <th>max</th>\n",
       "      <td>90.000000</td>\n",
       "      <td>1.490400e+06</td>\n",
       "      <td>16.000000</td>\n",
       "      <td>99999.000000</td>\n",
       "      <td>4356.000000</td>\n",
       "      <td>99.000000</td>\n",
       "    </tr>\n",
       "  </tbody>\n",
       "</table>\n",
       "</div>"
      ],
      "text/plain": [
       "                Age        Fnlwgt  EducationNum   CapitalGain   CapitalLoss  \\\n",
       "count  48842.000000  4.884200e+04  48842.000000  48842.000000  48842.000000   \n",
       "mean      38.643585  1.896641e+05     10.078089   1079.067626     87.502314   \n",
       "std       13.710510  1.056040e+05      2.570973   7452.019058    403.004552   \n",
       "min       17.000000  1.228500e+04      1.000000      0.000000      0.000000   \n",
       "25%       28.000000  1.175505e+05      9.000000      0.000000      0.000000   \n",
       "50%       37.000000  1.781445e+05     10.000000      0.000000      0.000000   \n",
       "75%       48.000000  2.376420e+05     12.000000      0.000000      0.000000   \n",
       "max       90.000000  1.490400e+06     16.000000  99999.000000   4356.000000   \n",
       "\n",
       "       HoursPerWeek  \n",
       "count  48842.000000  \n",
       "mean      40.422382  \n",
       "std       12.391444  \n",
       "min        1.000000  \n",
       "25%       40.000000  \n",
       "50%       40.000000  \n",
       "75%       45.000000  \n",
       "max       99.000000  "
      ]
     },
     "execution_count": 259,
     "metadata": {},
     "output_type": "execute_result"
    }
   ],
   "source": [
    "#Statistics\n",
    "census.describe()"
   ]
  },
  {
   "cell_type": "code",
   "execution_count": 260,
   "metadata": {},
   "outputs": [
    {
     "name": "stdout",
     "output_type": "stream",
     "text": [
      "<class 'pandas.core.frame.DataFrame'>\n",
      "RangeIndex: 48842 entries, 0 to 48841\n",
      "Data columns (total 15 columns):\n",
      " #   Column         Non-Null Count  Dtype \n",
      "---  ------         --------------  ----- \n",
      " 0   Age            48842 non-null  int64 \n",
      " 1   Workclass      46043 non-null  object\n",
      " 2   Fnlwgt         48842 non-null  int64 \n",
      " 3   Education      48842 non-null  object\n",
      " 4   EducationNum   48842 non-null  int64 \n",
      " 5   Marital        48842 non-null  object\n",
      " 6   Occupation     46033 non-null  object\n",
      " 7   Relationship   48842 non-null  object\n",
      " 8   Race           48842 non-null  object\n",
      " 9   Sex            48842 non-null  object\n",
      " 10  CapitalGain    48842 non-null  int64 \n",
      " 11  CapitalLoss    48842 non-null  int64 \n",
      " 12  HoursPerWeek   48842 non-null  int64 \n",
      " 13  NativeCountry  47985 non-null  object\n",
      " 14  Income         48842 non-null  object\n",
      "dtypes: int64(6), object(9)\n",
      "memory usage: 5.6+ MB\n"
     ]
    }
   ],
   "source": [
    "# Data set info\n",
    "census.info()"
   ]
  },
  {
   "cell_type": "code",
   "execution_count": 261,
   "metadata": {},
   "outputs": [
    {
     "data": {
      "text/plain": [
       "Age                 0\n",
       "Workclass        2799\n",
       "Fnlwgt              0\n",
       "Education           0\n",
       "EducationNum        0\n",
       "Marital             0\n",
       "Occupation       2809\n",
       "Relationship        0\n",
       "Race                0\n",
       "Sex                 0\n",
       "CapitalGain         0\n",
       "CapitalLoss         0\n",
       "HoursPerWeek        0\n",
       "NativeCountry     857\n",
       "Income              0\n",
       "dtype: int64"
      ]
     },
     "execution_count": 261,
     "metadata": {},
     "output_type": "execute_result"
    }
   ],
   "source": [
    "# Check for Null Data\n",
    "census.isnull().sum()"
   ]
  },
  {
   "cell_type": "code",
   "execution_count": 262,
   "metadata": {},
   "outputs": [
    {
     "name": "stdout",
     "output_type": "stream",
     "text": [
      "Duplicated rows except first occurence based on all columns are:\n",
      "       Age         Workclass  Fnlwgt     Education  EducationNum  \\\n",
      "4881    25           Private  308144     Bachelors            13   \n",
      "5104    90           Private   52386  Some-college            10   \n",
      "9171    21           Private  250051  Some-college            10   \n",
      "11631   20           Private  107658  Some-college            10   \n",
      "13084   25           Private  195994       1st-4th             2   \n",
      "15059   21           Private  243368     Preschool             1   \n",
      "17040   46           Private  173243       HS-grad             9   \n",
      "18555   30           Private  144593       HS-grad             9   \n",
      "18698   19           Private   97261       HS-grad             9   \n",
      "21318   19           Private  138153  Some-college            10   \n",
      "21490   19           Private  146679  Some-college            10   \n",
      "21875   49           Private   31267       7th-8th             4   \n",
      "22300   25           Private  195994       1st-4th             2   \n",
      "22367   44           Private  367749     Bachelors            13   \n",
      "22494   49  Self-emp-not-inc   43479  Some-college            10   \n",
      "25872   23           Private  240137       5th-6th             3   \n",
      "26313   28           Private  274679       Masters            14   \n",
      "28230   27           Private  255582       HS-grad             9   \n",
      "28522   42           Private  204235  Some-college            10   \n",
      "28846   39           Private   30916       HS-grad             9   \n",
      "29157   38           Private  207202       HS-grad             9   \n",
      "30845   46           Private  133616  Some-college            10   \n",
      "31993   19           Private  251579  Some-college            10   \n",
      "32404   35           Private  379959       HS-grad             9   \n",
      "33425   24           Private  194630     Bachelors            13   \n",
      "34229   19           Private  130431       5th-6th             3   \n",
      "34415   22           Private  137876  Some-college            10   \n",
      "34424   20               NaN  203353  Some-college            10   \n",
      "36713   17           Private  153021          12th             8   \n",
      "37639   29               NaN   41281     Bachelors            13   \n",
      "38343   21           Private  301694       HS-grad             9   \n",
      "38468   41           Private  116391     Bachelors            13   \n",
      "38993   22               NaN  334593  Some-college            10   \n",
      "39017   19           Private  139466  Some-college            10   \n",
      "39911   30           Private  111567       HS-grad             9   \n",
      "40677   19               NaN  167428  Some-college            10   \n",
      "42386   25           Private  112835     Bachelors            13   \n",
      "43387   23           Private  250630     Bachelors            13   \n",
      "43484   23           Private  239539       HS-grad             9   \n",
      "43750   37           Private   52870     Bachelors            13   \n",
      "43773   29           Private   36440     Bachelors            13   \n",
      "44307   47           Private  199058  Some-college            10   \n",
      "45049   39           Private  184659       HS-grad             9   \n",
      "46065   45           Private   82797     Bachelors            13   \n",
      "46409   30           Private  180317     Assoc-voc            11   \n",
      "46714   21           Private  243368     Preschool             1   \n",
      "46869   25           Private  308144     Bachelors            13   \n",
      "46959   19           Private  318822       HS-grad             9   \n",
      "47048   31           Private  228873       HS-grad             9   \n",
      "47399   43           Private  195258       HS-grad             9   \n",
      "47884   23           Private  107882     Bachelors            13   \n",
      "48521   18      Self-emp-inc  378036          12th             8   \n",
      "\n",
      "                     Marital         Occupation   Relationship  \\\n",
      "4881           Never-married       Craft-repair  Not-in-family   \n",
      "5104           Never-married      Other-service  Not-in-family   \n",
      "9171           Never-married     Prof-specialty      Own-child   \n",
      "11631          Never-married       Tech-support  Not-in-family   \n",
      "13084          Never-married    Priv-house-serv  Not-in-family   \n",
      "15059          Never-married    Farming-fishing  Not-in-family   \n",
      "17040     Married-civ-spouse       Craft-repair        Husband   \n",
      "18555          Never-married      Other-service  Not-in-family   \n",
      "18698          Never-married    Farming-fishing  Not-in-family   \n",
      "21318          Never-married       Adm-clerical      Own-child   \n",
      "21490          Never-married    Exec-managerial      Own-child   \n",
      "21875     Married-civ-spouse       Craft-repair        Husband   \n",
      "22300          Never-married    Priv-house-serv  Not-in-family   \n",
      "22367          Never-married     Prof-specialty  Not-in-family   \n",
      "22494     Married-civ-spouse       Craft-repair        Husband   \n",
      "25872          Never-married  Handlers-cleaners  Not-in-family   \n",
      "26313          Never-married     Prof-specialty  Not-in-family   \n",
      "28230          Never-married  Machine-op-inspct  Not-in-family   \n",
      "28522     Married-civ-spouse     Prof-specialty        Husband   \n",
      "28846     Married-civ-spouse       Craft-repair        Husband   \n",
      "29157     Married-civ-spouse  Machine-op-inspct        Husband   \n",
      "30845               Divorced       Adm-clerical      Unmarried   \n",
      "31993          Never-married      Other-service      Own-child   \n",
      "32404               Divorced      Other-service  Not-in-family   \n",
      "33425          Never-married     Prof-specialty  Not-in-family   \n",
      "34229          Never-married    Farming-fishing  Not-in-family   \n",
      "34415          Never-married    Protective-serv  Not-in-family   \n",
      "34424          Never-married                NaN      Own-child   \n",
      "36713          Never-married              Sales      Own-child   \n",
      "37639  Married-spouse-absent                NaN  Not-in-family   \n",
      "38343          Never-married       Craft-repair  Not-in-family   \n",
      "38468     Married-civ-spouse    Exec-managerial        Husband   \n",
      "38993          Never-married                NaN  Not-in-family   \n",
      "39017          Never-married              Sales      Own-child   \n",
      "39911          Never-married       Craft-repair      Own-child   \n",
      "40677          Never-married                NaN      Own-child   \n",
      "42386          Never-married     Prof-specialty  Not-in-family   \n",
      "43387          Never-married              Sales  Not-in-family   \n",
      "43484          Never-married  Machine-op-inspct      Own-child   \n",
      "43750     Married-civ-spouse    Exec-managerial        Husband   \n",
      "43773          Never-married       Adm-clerical  Not-in-family   \n",
      "44307     Married-civ-spouse     Prof-specialty        Husband   \n",
      "45049     Married-civ-spouse  Machine-op-inspct        Husband   \n",
      "46065     Married-civ-spouse    Exec-managerial        Husband   \n",
      "46409               Divorced  Machine-op-inspct  Not-in-family   \n",
      "46714          Never-married    Farming-fishing  Not-in-family   \n",
      "46869          Never-married       Craft-repair  Not-in-family   \n",
      "46959          Never-married       Adm-clerical  Not-in-family   \n",
      "47048     Married-civ-spouse       Craft-repair        Husband   \n",
      "47399     Married-civ-spouse       Craft-repair        Husband   \n",
      "47884          Never-married       Adm-clerical      Own-child   \n",
      "48521          Never-married    Farming-fishing      Own-child   \n",
      "\n",
      "                     Race     Sex  CapitalGain  CapitalLoss  HoursPerWeek  \\\n",
      "4881                White    Male            0            0            40   \n",
      "5104   Asian-Pac-Islander    Male            0            0            35   \n",
      "9171                White  Female            0            0            10   \n",
      "11631               White  Female            0            0            10   \n",
      "13084               White  Female            0            0            40   \n",
      "15059               White    Male            0            0            50   \n",
      "17040               White    Male            0            0            40   \n",
      "18555               Black    Male            0            0            40   \n",
      "18698               White    Male            0            0            40   \n",
      "21318               White  Female            0            0            10   \n",
      "21490               Black    Male            0            0            30   \n",
      "21875               White    Male            0            0            40   \n",
      "22300               White  Female            0            0            40   \n",
      "22367               White  Female            0            0            45   \n",
      "22494               White    Male            0            0            40   \n",
      "25872               White    Male            0            0            55   \n",
      "26313               White    Male            0            0            50   \n",
      "28230               White  Female            0            0            40   \n",
      "28522               White    Male            0            0            40   \n",
      "28846               White    Male            0            0            40   \n",
      "29157               White    Male            0            0            48   \n",
      "30845               White  Female            0            0            40   \n",
      "31993               White    Male            0            0            14   \n",
      "32404               White  Female            0            0            40   \n",
      "33425               White    Male            0            0            35   \n",
      "34229               White    Male            0            0            36   \n",
      "34415               White    Male            0            0            20   \n",
      "34424               White  Female            0            0            40   \n",
      "36713               White  Female            0            0            20   \n",
      "37639               White    Male            0            0            50   \n",
      "38343               White    Male            0            0            35   \n",
      "38468               White    Male            0            0            40   \n",
      "38993               White    Male            0            0            40   \n",
      "39017               White  Female            0            0            25   \n",
      "39911               White    Male            0            0            48   \n",
      "40677               White    Male            0            0            40   \n",
      "42386               White    Male            0            0            40   \n",
      "43387               White  Female            0            0            40   \n",
      "43484  Asian-Pac-Islander    Male            0            0            40   \n",
      "43750               White    Male            0            0            40   \n",
      "43773               White  Female            0            0            40   \n",
      "44307               White    Male            0            0            40   \n",
      "45049               White    Male            0            0            40   \n",
      "46065               White    Male            0            0            45   \n",
      "46409               White    Male            0            0            40   \n",
      "46714               White    Male            0            0            50   \n",
      "46869               White    Male            0            0            40   \n",
      "46959               White  Female            0            0            40   \n",
      "47048               White    Male            0            0            40   \n",
      "47399               White    Male            0            0            40   \n",
      "47884               White  Female            0            0            40   \n",
      "48521               White    Male            0            0            10   \n",
      "\n",
      "       NativeCountry Income  \n",
      "4881          Mexico  <=50K  \n",
      "5104   United-States  <=50K  \n",
      "9171   United-States  <=50K  \n",
      "11631  United-States  <=50K  \n",
      "13084      Guatemala  <=50K  \n",
      "15059         Mexico  <=50K  \n",
      "17040  United-States  <=50K  \n",
      "18555            NaN  <=50K  \n",
      "18698  United-States  <=50K  \n",
      "21318  United-States  <=50K  \n",
      "21490  United-States  <=50K  \n",
      "21875  United-States  <=50K  \n",
      "22300      Guatemala  <=50K  \n",
      "22367         Mexico  <=50K  \n",
      "22494  United-States  <=50K  \n",
      "25872         Mexico  <=50K  \n",
      "26313  United-States  <=50K  \n",
      "28230  United-States  <=50K  \n",
      "28522  United-States   >50K  \n",
      "28846  United-States  <=50K  \n",
      "29157  United-States   >50K  \n",
      "30845  United-States  <=50K  \n",
      "31993  United-States  <=50K  \n",
      "32404  United-States  <=50K  \n",
      "33425  United-States  <=50K  \n",
      "34229         Mexico  <=50K  \n",
      "34415  United-States  <=50K  \n",
      "34424  United-States  <=50K  \n",
      "36713  United-States  <=50K  \n",
      "37639  United-States  <=50K  \n",
      "38343         Mexico  <=50K  \n",
      "38468  United-States   >50K  \n",
      "38993  United-States  <=50K  \n",
      "39017  United-States  <=50K  \n",
      "39911  United-States  <=50K  \n",
      "40677  United-States  <=50K  \n",
      "42386  United-States  <=50K  \n",
      "43387  United-States  <=50K  \n",
      "43484    Philippines  <=50K  \n",
      "43750  United-States  <=50K  \n",
      "43773  United-States  <=50K  \n",
      "44307  United-States   >50K  \n",
      "45049  United-States  <=50K  \n",
      "46065  United-States   >50K  \n",
      "46409  United-States  <=50K  \n",
      "46714         Mexico  <=50K  \n",
      "46869         Mexico  <=50K  \n",
      "46959  United-States  <=50K  \n",
      "47048  United-States  <=50K  \n",
      "47399  United-States   >50K  \n",
      "47884  United-States  <=50K  \n",
      "48521  United-States  <=50K  \n"
     ]
    }
   ],
   "source": [
    "duplicateRowsDF=census[census.duplicated()]\n",
    "print(\"Duplicated rows except first occurence based on all columns are:\")\n",
    "print(duplicateRowsDF)"
   ]
  },
  {
   "cell_type": "code",
   "execution_count": 263,
   "metadata": {},
   "outputs": [
    {
     "data": {
      "text/plain": [
       "(52, 15)"
      ]
     },
     "execution_count": 263,
     "metadata": {},
     "output_type": "execute_result"
    }
   ],
   "source": [
    "# There are 52 duplicate rows\n",
    "duplicateRowsDF.shape"
   ]
  },
  {
   "cell_type": "code",
   "execution_count": 264,
   "metadata": {},
   "outputs": [
    {
     "name": "stdout",
     "output_type": "stream",
     "text": [
      "Duplicated rows except first occurence based on all columns are:\n",
      "       Age         Workclass  Fnlwgt     Education  EducationNum  \\\n",
      "4881    25           Private  308144     Bachelors            13   \n",
      "5104    90           Private   52386  Some-college            10   \n",
      "9171    21           Private  250051  Some-college            10   \n",
      "11631   20           Private  107658  Some-college            10   \n",
      "13084   25           Private  195994       1st-4th             2   \n",
      "15059   21           Private  243368     Preschool             1   \n",
      "17040   46           Private  173243       HS-grad             9   \n",
      "18555   30           Private  144593       HS-grad             9   \n",
      "18698   19           Private   97261       HS-grad             9   \n",
      "21318   19           Private  138153  Some-college            10   \n",
      "21490   19           Private  146679  Some-college            10   \n",
      "21875   49           Private   31267       7th-8th             4   \n",
      "22300   25           Private  195994       1st-4th             2   \n",
      "22367   44           Private  367749     Bachelors            13   \n",
      "22494   49  Self-emp-not-inc   43479  Some-college            10   \n",
      "25872   23           Private  240137       5th-6th             3   \n",
      "26313   28           Private  274679       Masters            14   \n",
      "28230   27           Private  255582       HS-grad             9   \n",
      "28522   42           Private  204235  Some-college            10   \n",
      "28846   39           Private   30916       HS-grad             9   \n",
      "29157   38           Private  207202       HS-grad             9   \n",
      "30845   46           Private  133616  Some-college            10   \n",
      "31993   19           Private  251579  Some-college            10   \n",
      "32404   35           Private  379959       HS-grad             9   \n",
      "33425   24           Private  194630     Bachelors            13   \n",
      "34229   19           Private  130431       5th-6th             3   \n",
      "34415   22           Private  137876  Some-college            10   \n",
      "34424   20               NaN  203353  Some-college            10   \n",
      "36713   17           Private  153021          12th             8   \n",
      "37639   29               NaN   41281     Bachelors            13   \n",
      "38343   21           Private  301694       HS-grad             9   \n",
      "38468   41           Private  116391     Bachelors            13   \n",
      "38993   22               NaN  334593  Some-college            10   \n",
      "39017   19           Private  139466  Some-college            10   \n",
      "39911   30           Private  111567       HS-grad             9   \n",
      "40677   19               NaN  167428  Some-college            10   \n",
      "42386   25           Private  112835     Bachelors            13   \n",
      "43387   23           Private  250630     Bachelors            13   \n",
      "43484   23           Private  239539       HS-grad             9   \n",
      "43750   37           Private   52870     Bachelors            13   \n",
      "43773   29           Private   36440     Bachelors            13   \n",
      "44307   47           Private  199058  Some-college            10   \n",
      "45049   39           Private  184659       HS-grad             9   \n",
      "46065   45           Private   82797     Bachelors            13   \n",
      "46409   30           Private  180317     Assoc-voc            11   \n",
      "46714   21           Private  243368     Preschool             1   \n",
      "46869   25           Private  308144     Bachelors            13   \n",
      "46959   19           Private  318822       HS-grad             9   \n",
      "47048   31           Private  228873       HS-grad             9   \n",
      "47399   43           Private  195258       HS-grad             9   \n",
      "47884   23           Private  107882     Bachelors            13   \n",
      "48521   18      Self-emp-inc  378036          12th             8   \n",
      "\n",
      "                     Marital         Occupation   Relationship  \\\n",
      "4881           Never-married       Craft-repair  Not-in-family   \n",
      "5104           Never-married      Other-service  Not-in-family   \n",
      "9171           Never-married     Prof-specialty      Own-child   \n",
      "11631          Never-married       Tech-support  Not-in-family   \n",
      "13084          Never-married    Priv-house-serv  Not-in-family   \n",
      "15059          Never-married    Farming-fishing  Not-in-family   \n",
      "17040     Married-civ-spouse       Craft-repair        Husband   \n",
      "18555          Never-married      Other-service  Not-in-family   \n",
      "18698          Never-married    Farming-fishing  Not-in-family   \n",
      "21318          Never-married       Adm-clerical      Own-child   \n",
      "21490          Never-married    Exec-managerial      Own-child   \n",
      "21875     Married-civ-spouse       Craft-repair        Husband   \n",
      "22300          Never-married    Priv-house-serv  Not-in-family   \n",
      "22367          Never-married     Prof-specialty  Not-in-family   \n",
      "22494     Married-civ-spouse       Craft-repair        Husband   \n",
      "25872          Never-married  Handlers-cleaners  Not-in-family   \n",
      "26313          Never-married     Prof-specialty  Not-in-family   \n",
      "28230          Never-married  Machine-op-inspct  Not-in-family   \n",
      "28522     Married-civ-spouse     Prof-specialty        Husband   \n",
      "28846     Married-civ-spouse       Craft-repair        Husband   \n",
      "29157     Married-civ-spouse  Machine-op-inspct        Husband   \n",
      "30845               Divorced       Adm-clerical      Unmarried   \n",
      "31993          Never-married      Other-service      Own-child   \n",
      "32404               Divorced      Other-service  Not-in-family   \n",
      "33425          Never-married     Prof-specialty  Not-in-family   \n",
      "34229          Never-married    Farming-fishing  Not-in-family   \n",
      "34415          Never-married    Protective-serv  Not-in-family   \n",
      "34424          Never-married                NaN      Own-child   \n",
      "36713          Never-married              Sales      Own-child   \n",
      "37639  Married-spouse-absent                NaN  Not-in-family   \n",
      "38343          Never-married       Craft-repair  Not-in-family   \n",
      "38468     Married-civ-spouse    Exec-managerial        Husband   \n",
      "38993          Never-married                NaN  Not-in-family   \n",
      "39017          Never-married              Sales      Own-child   \n",
      "39911          Never-married       Craft-repair      Own-child   \n",
      "40677          Never-married                NaN      Own-child   \n",
      "42386          Never-married     Prof-specialty  Not-in-family   \n",
      "43387          Never-married              Sales  Not-in-family   \n",
      "43484          Never-married  Machine-op-inspct      Own-child   \n",
      "43750     Married-civ-spouse    Exec-managerial        Husband   \n",
      "43773          Never-married       Adm-clerical  Not-in-family   \n",
      "44307     Married-civ-spouse     Prof-specialty        Husband   \n",
      "45049     Married-civ-spouse  Machine-op-inspct        Husband   \n",
      "46065     Married-civ-spouse    Exec-managerial        Husband   \n",
      "46409               Divorced  Machine-op-inspct  Not-in-family   \n",
      "46714          Never-married    Farming-fishing  Not-in-family   \n",
      "46869          Never-married       Craft-repair  Not-in-family   \n",
      "46959          Never-married       Adm-clerical  Not-in-family   \n",
      "47048     Married-civ-spouse       Craft-repair        Husband   \n",
      "47399     Married-civ-spouse       Craft-repair        Husband   \n",
      "47884          Never-married       Adm-clerical      Own-child   \n",
      "48521          Never-married    Farming-fishing      Own-child   \n",
      "\n",
      "                     Race     Sex  CapitalGain  CapitalLoss  HoursPerWeek  \\\n",
      "4881                White    Male            0            0            40   \n",
      "5104   Asian-Pac-Islander    Male            0            0            35   \n",
      "9171                White  Female            0            0            10   \n",
      "11631               White  Female            0            0            10   \n",
      "13084               White  Female            0            0            40   \n",
      "15059               White    Male            0            0            50   \n",
      "17040               White    Male            0            0            40   \n",
      "18555               Black    Male            0            0            40   \n",
      "18698               White    Male            0            0            40   \n",
      "21318               White  Female            0            0            10   \n",
      "21490               Black    Male            0            0            30   \n",
      "21875               White    Male            0            0            40   \n",
      "22300               White  Female            0            0            40   \n",
      "22367               White  Female            0            0            45   \n",
      "22494               White    Male            0            0            40   \n",
      "25872               White    Male            0            0            55   \n",
      "26313               White    Male            0            0            50   \n",
      "28230               White  Female            0            0            40   \n",
      "28522               White    Male            0            0            40   \n",
      "28846               White    Male            0            0            40   \n",
      "29157               White    Male            0            0            48   \n",
      "30845               White  Female            0            0            40   \n",
      "31993               White    Male            0            0            14   \n",
      "32404               White  Female            0            0            40   \n",
      "33425               White    Male            0            0            35   \n",
      "34229               White    Male            0            0            36   \n",
      "34415               White    Male            0            0            20   \n",
      "34424               White  Female            0            0            40   \n",
      "36713               White  Female            0            0            20   \n",
      "37639               White    Male            0            0            50   \n",
      "38343               White    Male            0            0            35   \n",
      "38468               White    Male            0            0            40   \n",
      "38993               White    Male            0            0            40   \n",
      "39017               White  Female            0            0            25   \n",
      "39911               White    Male            0            0            48   \n",
      "40677               White    Male            0            0            40   \n",
      "42386               White    Male            0            0            40   \n",
      "43387               White  Female            0            0            40   \n",
      "43484  Asian-Pac-Islander    Male            0            0            40   \n",
      "43750               White    Male            0            0            40   \n",
      "43773               White  Female            0            0            40   \n",
      "44307               White    Male            0            0            40   \n",
      "45049               White    Male            0            0            40   \n",
      "46065               White    Male            0            0            45   \n",
      "46409               White    Male            0            0            40   \n",
      "46714               White    Male            0            0            50   \n",
      "46869               White    Male            0            0            40   \n",
      "46959               White  Female            0            0            40   \n",
      "47048               White    Male            0            0            40   \n",
      "47399               White    Male            0            0            40   \n",
      "47884               White  Female            0            0            40   \n",
      "48521               White    Male            0            0            10   \n",
      "\n",
      "       NativeCountry Income  \n",
      "4881          Mexico  <=50K  \n",
      "5104   United-States  <=50K  \n",
      "9171   United-States  <=50K  \n",
      "11631  United-States  <=50K  \n",
      "13084      Guatemala  <=50K  \n",
      "15059         Mexico  <=50K  \n",
      "17040  United-States  <=50K  \n",
      "18555            NaN  <=50K  \n",
      "18698  United-States  <=50K  \n",
      "21318  United-States  <=50K  \n",
      "21490  United-States  <=50K  \n",
      "21875  United-States  <=50K  \n",
      "22300      Guatemala  <=50K  \n",
      "22367         Mexico  <=50K  \n",
      "22494  United-States  <=50K  \n",
      "25872         Mexico  <=50K  \n",
      "26313  United-States  <=50K  \n",
      "28230  United-States  <=50K  \n",
      "28522  United-States   >50K  \n",
      "28846  United-States  <=50K  \n",
      "29157  United-States   >50K  \n",
      "30845  United-States  <=50K  \n",
      "31993  United-States  <=50K  \n",
      "32404  United-States  <=50K  \n",
      "33425  United-States  <=50K  \n",
      "34229         Mexico  <=50K  \n",
      "34415  United-States  <=50K  \n",
      "34424  United-States  <=50K  \n",
      "36713  United-States  <=50K  \n",
      "37639  United-States  <=50K  \n",
      "38343         Mexico  <=50K  \n",
      "38468  United-States   >50K  \n",
      "38993  United-States  <=50K  \n",
      "39017  United-States  <=50K  \n",
      "39911  United-States  <=50K  \n",
      "40677  United-States  <=50K  \n",
      "42386  United-States  <=50K  \n",
      "43387  United-States  <=50K  \n",
      "43484    Philippines  <=50K  \n",
      "43750  United-States  <=50K  \n",
      "43773  United-States  <=50K  \n",
      "44307  United-States   >50K  \n",
      "45049  United-States  <=50K  \n",
      "46065  United-States   >50K  \n",
      "46409  United-States  <=50K  \n",
      "46714         Mexico  <=50K  \n",
      "46869         Mexico  <=50K  \n",
      "46959  United-States  <=50K  \n",
      "47048  United-States  <=50K  \n",
      "47399  United-States   >50K  \n",
      "47884  United-States  <=50K  \n",
      "48521  United-States  <=50K  \n"
     ]
    }
   ],
   "source": [
    "duplicateRowsDF=census[census.duplicated()]\n",
    "print(\"Duplicated rows except first occurence based on all columns are:\")\n",
    "print(duplicateRowsDF)"
   ]
  },
  {
   "cell_type": "code",
   "execution_count": 265,
   "metadata": {},
   "outputs": [
    {
     "data": {
      "text/plain": [
       "<matplotlib.axes._subplots.AxesSubplot at 0x281af734310>"
      ]
     },
     "execution_count": 265,
     "metadata": {},
     "output_type": "execute_result"
    },
    {
     "data": {
      "image/png": "[encoded data removed]",
      "text/plain": [
       "<Figure size 720x576 with 1 Axes>"
      ]
     },
     "metadata": {
      "needs_background": "light"
     },
     "output_type": "display_data"
    }
   ],
   "source": [
    "# Outliers\n",
    "census.select_dtypes(exclude = 'category').plot(kind = 'box', figsize = (10,8))"
   ]
  },
  {
   "cell_type": "markdown",
   "metadata": {},
   "source": [
    "# III Feature Engineering"
   ]
  },
  {
   "cell_type": "code",
   "execution_count": 266,
   "metadata": {},
   "outputs": [
    {
     "data": {
      "text/html": [
       "<div>\n",
       "<style scoped>\n",
       "    .dataframe tbody tr th:only-of-type {\n",
       "        vertical-align: middle;\n",
       "    }\n",
       "\n",
       "    .dataframe tbody tr th {\n",
       "        vertical-align: top;\n",
       "    }\n",
       "\n",
       "    .dataframe thead th {\n",
       "        text-align: right;\n",
       "    }\n",
       "</style>\n",
       "<table border=\"1\" class=\"dataframe\">\n",
       "  <thead>\n",
       "    <tr style=\"text-align: right;\">\n",
       "      <th></th>\n",
       "      <th>Age</th>\n",
       "      <th>Workclass</th>\n",
       "      <th>Fnlwgt</th>\n",
       "      <th>Education</th>\n",
       "      <th>EducationNum</th>\n",
       "      <th>Marital</th>\n",
       "      <th>Occupation</th>\n",
       "      <th>Relationship</th>\n",
       "      <th>Race</th>\n",
       "      <th>Sex</th>\n",
       "      <th>CapitalGain</th>\n",
       "      <th>CapitalLoss</th>\n",
       "      <th>HoursPerWeek</th>\n",
       "      <th>NativeCountry</th>\n",
       "      <th>Income</th>\n",
       "      <th>&lt;=50K</th>\n",
       "      <th>&gt;50K</th>\n",
       "    </tr>\n",
       "  </thead>\n",
       "  <tbody>\n",
       "    <tr>\n",
       "      <th>0</th>\n",
       "      <td>39</td>\n",
       "      <td>State-gov</td>\n",
       "      <td>77516</td>\n",
       "      <td>Bachelors</td>\n",
       "      <td>13</td>\n",
       "      <td>Never-married</td>\n",
       "      <td>Adm-clerical</td>\n",
       "      <td>Not-in-family</td>\n",
       "      <td>White</td>\n",
       "      <td>Male</td>\n",
       "      <td>2174</td>\n",
       "      <td>0</td>\n",
       "      <td>40</td>\n",
       "      <td>United-States</td>\n",
       "      <td>&lt;=50K</td>\n",
       "      <td>1</td>\n",
       "      <td>0</td>\n",
       "    </tr>\n",
       "    <tr>\n",
       "      <th>1</th>\n",
       "      <td>50</td>\n",
       "      <td>Self-emp-not-inc</td>\n",
       "      <td>83311</td>\n",
       "      <td>Bachelors</td>\n",
       "      <td>13</td>\n",
       "      <td>Married-civ-spouse</td>\n",
       "      <td>Exec-managerial</td>\n",
       "      <td>Husband</td>\n",
       "      <td>White</td>\n",
       "      <td>Male</td>\n",
       "      <td>0</td>\n",
       "      <td>0</td>\n",
       "      <td>13</td>\n",
       "      <td>United-States</td>\n",
       "      <td>&lt;=50K</td>\n",
       "      <td>1</td>\n",
       "      <td>0</td>\n",
       "    </tr>\n",
       "    <tr>\n",
       "      <th>2</th>\n",
       "      <td>38</td>\n",
       "      <td>Private</td>\n",
       "      <td>215646</td>\n",
       "      <td>HS-grad</td>\n",
       "      <td>9</td>\n",
       "      <td>Divorced</td>\n",
       "      <td>Handlers-cleaners</td>\n",
       "      <td>Not-in-family</td>\n",
       "      <td>White</td>\n",
       "      <td>Male</td>\n",
       "      <td>0</td>\n",
       "      <td>0</td>\n",
       "      <td>40</td>\n",
       "      <td>United-States</td>\n",
       "      <td>&lt;=50K</td>\n",
       "      <td>1</td>\n",
       "      <td>0</td>\n",
       "    </tr>\n",
       "    <tr>\n",
       "      <th>3</th>\n",
       "      <td>53</td>\n",
       "      <td>Private</td>\n",
       "      <td>234721</td>\n",
       "      <td>11th</td>\n",
       "      <td>7</td>\n",
       "      <td>Married-civ-spouse</td>\n",
       "      <td>Handlers-cleaners</td>\n",
       "      <td>Husband</td>\n",
       "      <td>Black</td>\n",
       "      <td>Male</td>\n",
       "      <td>0</td>\n",
       "      <td>0</td>\n",
       "      <td>40</td>\n",
       "      <td>United-States</td>\n",
       "      <td>&lt;=50K</td>\n",
       "      <td>1</td>\n",
       "      <td>0</td>\n",
       "    </tr>\n",
       "    <tr>\n",
       "      <th>4</th>\n",
       "      <td>28</td>\n",
       "      <td>Private</td>\n",
       "      <td>338409</td>\n",
       "      <td>Bachelors</td>\n",
       "      <td>13</td>\n",
       "      <td>Married-civ-spouse</td>\n",
       "      <td>Prof-specialty</td>\n",
       "      <td>Wife</td>\n",
       "      <td>Black</td>\n",
       "      <td>Female</td>\n",
       "      <td>0</td>\n",
       "      <td>0</td>\n",
       "      <td>40</td>\n",
       "      <td>Cuba</td>\n",
       "      <td>&lt;=50K</td>\n",
       "      <td>1</td>\n",
       "      <td>0</td>\n",
       "    </tr>\n",
       "    <tr>\n",
       "      <th>5</th>\n",
       "      <td>37</td>\n",
       "      <td>Private</td>\n",
       "      <td>284582</td>\n",
       "      <td>Masters</td>\n",
       "      <td>14</td>\n",
       "      <td>Married-civ-spouse</td>\n",
       "      <td>Exec-managerial</td>\n",
       "      <td>Wife</td>\n",
       "      <td>White</td>\n",
       "      <td>Female</td>\n",
       "      <td>0</td>\n",
       "      <td>0</td>\n",
       "      <td>40</td>\n",
       "      <td>United-States</td>\n",
       "      <td>&lt;=50K</td>\n",
       "      <td>1</td>\n",
       "      <td>0</td>\n",
       "    </tr>\n",
       "    <tr>\n",
       "      <th>6</th>\n",
       "      <td>49</td>\n",
       "      <td>Private</td>\n",
       "      <td>160187</td>\n",
       "      <td>9th</td>\n",
       "      <td>5</td>\n",
       "      <td>Married-spouse-absent</td>\n",
       "      <td>Other-service</td>\n",
       "      <td>Not-in-family</td>\n",
       "      <td>Black</td>\n",
       "      <td>Female</td>\n",
       "      <td>0</td>\n",
       "      <td>0</td>\n",
       "      <td>16</td>\n",
       "      <td>Jamaica</td>\n",
       "      <td>&lt;=50K</td>\n",
       "      <td>1</td>\n",
       "      <td>0</td>\n",
       "    </tr>\n",
       "    <tr>\n",
       "      <th>7</th>\n",
       "      <td>52</td>\n",
       "      <td>Self-emp-not-inc</td>\n",
       "      <td>209642</td>\n",
       "      <td>HS-grad</td>\n",
       "      <td>9</td>\n",
       "      <td>Married-civ-spouse</td>\n",
       "      <td>Exec-managerial</td>\n",
       "      <td>Husband</td>\n",
       "      <td>White</td>\n",
       "      <td>Male</td>\n",
       "      <td>0</td>\n",
       "      <td>0</td>\n",
       "      <td>45</td>\n",
       "      <td>United-States</td>\n",
       "      <td>&gt;50K</td>\n",
       "      <td>0</td>\n",
       "      <td>1</td>\n",
       "    </tr>\n",
       "    <tr>\n",
       "      <th>8</th>\n",
       "      <td>31</td>\n",
       "      <td>Private</td>\n",
       "      <td>45781</td>\n",
       "      <td>Masters</td>\n",
       "      <td>14</td>\n",
       "      <td>Never-married</td>\n",
       "      <td>Prof-specialty</td>\n",
       "      <td>Not-in-family</td>\n",
       "      <td>White</td>\n",
       "      <td>Female</td>\n",
       "      <td>14084</td>\n",
       "      <td>0</td>\n",
       "      <td>50</td>\n",
       "      <td>United-States</td>\n",
       "      <td>&gt;50K</td>\n",
       "      <td>0</td>\n",
       "      <td>1</td>\n",
       "    </tr>\n",
       "    <tr>\n",
       "      <th>9</th>\n",
       "      <td>42</td>\n",
       "      <td>Private</td>\n",
       "      <td>159449</td>\n",
       "      <td>Bachelors</td>\n",
       "      <td>13</td>\n",
       "      <td>Married-civ-spouse</td>\n",
       "      <td>Exec-managerial</td>\n",
       "      <td>Husband</td>\n",
       "      <td>White</td>\n",
       "      <td>Male</td>\n",
       "      <td>5178</td>\n",
       "      <td>0</td>\n",
       "      <td>40</td>\n",
       "      <td>United-States</td>\n",
       "      <td>&gt;50K</td>\n",
       "      <td>0</td>\n",
       "      <td>1</td>\n",
       "    </tr>\n",
       "  </tbody>\n",
       "</table>\n",
       "</div>"
      ],
      "text/plain": [
       "   Age         Workclass  Fnlwgt  Education  EducationNum  \\\n",
       "0   39         State-gov   77516  Bachelors            13   \n",
       "1   50  Self-emp-not-inc   83311  Bachelors            13   \n",
       "2   38           Private  215646    HS-grad             9   \n",
       "3   53           Private  234721       11th             7   \n",
       "4   28           Private  338409  Bachelors            13   \n",
       "5   37           Private  284582    Masters            14   \n",
       "6   49           Private  160187        9th             5   \n",
       "7   52  Self-emp-not-inc  209642    HS-grad             9   \n",
       "8   31           Private   45781    Masters            14   \n",
       "9   42           Private  159449  Bachelors            13   \n",
       "\n",
       "                 Marital         Occupation   Relationship   Race     Sex  \\\n",
       "0          Never-married       Adm-clerical  Not-in-family  White    Male   \n",
       "1     Married-civ-spouse    Exec-managerial        Husband  White    Male   \n",
       "2               Divorced  Handlers-cleaners  Not-in-family  White    Male   \n",
       "3     Married-civ-spouse  Handlers-cleaners        Husband  Black    Male   \n",
       "4     Married-civ-spouse     Prof-specialty           Wife  Black  Female   \n",
       "5     Married-civ-spouse    Exec-managerial           Wife  White  Female   \n",
       "6  Married-spouse-absent      Other-service  Not-in-family  Black  Female   \n",
       "7     Married-civ-spouse    Exec-managerial        Husband  White    Male   \n",
       "8          Never-married     Prof-specialty  Not-in-family  White  Female   \n",
       "9     Married-civ-spouse    Exec-managerial        Husband  White    Male   \n",
       "\n",
       "   CapitalGain  CapitalLoss  HoursPerWeek  NativeCountry Income  <=50K  >50K  \n",
       "0         2174            0            40  United-States  <=50K      1     0  \n",
       "1            0            0            13  United-States  <=50K      1     0  \n",
       "2            0            0            40  United-States  <=50K      1     0  \n",
       "3            0            0            40  United-States  <=50K      1     0  \n",
       "4            0            0            40           Cuba  <=50K      1     0  \n",
       "5            0            0            40  United-States  <=50K      1     0  \n",
       "6            0            0            16        Jamaica  <=50K      1     0  \n",
       "7            0            0            45  United-States   >50K      0     1  \n",
       "8        14084            0            50  United-States   >50K      0     1  \n",
       "9         5178            0            40  United-States   >50K      0     1  "
      ]
     },
     "execution_count": 266,
     "metadata": {},
     "output_type": "execute_result"
    }
   ],
   "source": [
    "#Encoding for ML section\n",
    "newcol=pd.get_dummies(census['Income'])\n",
    "census=pd.concat([census,newcol],axis=1)\n",
    "#census.drop(['Income'],axis=1,inplace=True)\n",
    "census.head(10)"
   ]
  },
  {
   "cell_type": "code",
   "execution_count": 267,
   "metadata": {},
   "outputs": [
    {
     "data": {
      "text/html": [
       "<div>\n",
       "<style scoped>\n",
       "    .dataframe tbody tr th:only-of-type {\n",
       "        vertical-align: middle;\n",
       "    }\n",
       "\n",
       "    .dataframe tbody tr th {\n",
       "        vertical-align: top;\n",
       "    }\n",
       "\n",
       "    .dataframe thead th {\n",
       "        text-align: right;\n",
       "    }\n",
       "</style>\n",
       "<table border=\"1\" class=\"dataframe\">\n",
       "  <thead>\n",
       "    <tr style=\"text-align: right;\">\n",
       "      <th></th>\n",
       "      <th>Age</th>\n",
       "      <th>Workclass</th>\n",
       "      <th>Fnlwgt</th>\n",
       "      <th>Education</th>\n",
       "      <th>EducationNum</th>\n",
       "      <th>Marital</th>\n",
       "      <th>Occupation</th>\n",
       "      <th>Relationship</th>\n",
       "      <th>Race</th>\n",
       "      <th>Sex</th>\n",
       "      <th>CapitalGain</th>\n",
       "      <th>CapitalLoss</th>\n",
       "      <th>HoursPerWeek</th>\n",
       "      <th>NativeCountry</th>\n",
       "      <th>Income</th>\n",
       "      <th>LessEqualThan50</th>\n",
       "      <th>MoreThan50</th>\n",
       "    </tr>\n",
       "  </thead>\n",
       "  <tbody>\n",
       "    <tr>\n",
       "      <th>0</th>\n",
       "      <td>39</td>\n",
       "      <td>State-gov</td>\n",
       "      <td>77516</td>\n",
       "      <td>Bachelors</td>\n",
       "      <td>13</td>\n",
       "      <td>Never-married</td>\n",
       "      <td>Adm-clerical</td>\n",
       "      <td>Not-in-family</td>\n",
       "      <td>White</td>\n",
       "      <td>Male</td>\n",
       "      <td>2174</td>\n",
       "      <td>0</td>\n",
       "      <td>40</td>\n",
       "      <td>United-States</td>\n",
       "      <td>&lt;=50K</td>\n",
       "      <td>1</td>\n",
       "      <td>0</td>\n",
       "    </tr>\n",
       "    <tr>\n",
       "      <th>1</th>\n",
       "      <td>50</td>\n",
       "      <td>Self-emp-not-inc</td>\n",
       "      <td>83311</td>\n",
       "      <td>Bachelors</td>\n",
       "      <td>13</td>\n",
       "      <td>Married-civ-spouse</td>\n",
       "      <td>Exec-managerial</td>\n",
       "      <td>Husband</td>\n",
       "      <td>White</td>\n",
       "      <td>Male</td>\n",
       "      <td>0</td>\n",
       "      <td>0</td>\n",
       "      <td>13</td>\n",
       "      <td>United-States</td>\n",
       "      <td>&lt;=50K</td>\n",
       "      <td>1</td>\n",
       "      <td>0</td>\n",
       "    </tr>\n",
       "  </tbody>\n",
       "</table>\n",
       "</div>"
      ],
      "text/plain": [
       "   Age         Workclass  Fnlwgt  Education  EducationNum             Marital  \\\n",
       "0   39         State-gov   77516  Bachelors            13       Never-married   \n",
       "1   50  Self-emp-not-inc   83311  Bachelors            13  Married-civ-spouse   \n",
       "\n",
       "        Occupation   Relationship   Race   Sex  CapitalGain  CapitalLoss  \\\n",
       "0     Adm-clerical  Not-in-family  White  Male         2174            0   \n",
       "1  Exec-managerial        Husband  White  Male            0            0   \n",
       "\n",
       "   HoursPerWeek  NativeCountry Income  LessEqualThan50  MoreThan50  \n",
       "0            40  United-States  <=50K                1           0  \n",
       "1            13  United-States  <=50K                1           0  "
      ]
     },
     "execution_count": 267,
     "metadata": {},
     "output_type": "execute_result"
    }
   ],
   "source": [
    "#Rename columns\n",
    "census = census.rename({'<=50K': 'LessEqualThan50', '>50K': 'MoreThan50'}, axis=1) \n",
    "census.head(2)"
   ]
  },
  {
   "cell_type": "code",
   "execution_count": 268,
   "metadata": {},
   "outputs": [
    {
     "data": {
      "text/html": [
       "<div>\n",
       "<style scoped>\n",
       "    .dataframe tbody tr th:only-of-type {\n",
       "        vertical-align: middle;\n",
       "    }\n",
       "\n",
       "    .dataframe tbody tr th {\n",
       "        vertical-align: top;\n",
       "    }\n",
       "\n",
       "    .dataframe thead th {\n",
       "        text-align: right;\n",
       "    }\n",
       "</style>\n",
       "<table border=\"1\" class=\"dataframe\">\n",
       "  <thead>\n",
       "    <tr style=\"text-align: right;\">\n",
       "      <th></th>\n",
       "      <th>Age</th>\n",
       "      <th>Workclass</th>\n",
       "      <th>Fnlwgt</th>\n",
       "      <th>Education</th>\n",
       "      <th>EducationNum</th>\n",
       "      <th>Marital</th>\n",
       "      <th>Occupation</th>\n",
       "      <th>Relationship</th>\n",
       "      <th>Race</th>\n",
       "      <th>Sex</th>\n",
       "      <th>CapitalGain</th>\n",
       "      <th>CapitalLoss</th>\n",
       "      <th>HoursPerWeek</th>\n",
       "      <th>NativeCountry</th>\n",
       "      <th>Income</th>\n",
       "      <th>LessEqualThan50</th>\n",
       "      <th>MoreThan50</th>\n",
       "      <th>Female</th>\n",
       "      <th>Male</th>\n",
       "    </tr>\n",
       "  </thead>\n",
       "  <tbody>\n",
       "    <tr>\n",
       "      <th>0</th>\n",
       "      <td>39</td>\n",
       "      <td>State-gov</td>\n",
       "      <td>77516</td>\n",
       "      <td>Bachelors</td>\n",
       "      <td>13</td>\n",
       "      <td>Never-married</td>\n",
       "      <td>Adm-clerical</td>\n",
       "      <td>Not-in-family</td>\n",
       "      <td>White</td>\n",
       "      <td>Male</td>\n",
       "      <td>2174</td>\n",
       "      <td>0</td>\n",
       "      <td>40</td>\n",
       "      <td>United-States</td>\n",
       "      <td>&lt;=50K</td>\n",
       "      <td>1</td>\n",
       "      <td>0</td>\n",
       "      <td>0</td>\n",
       "      <td>1</td>\n",
       "    </tr>\n",
       "    <tr>\n",
       "      <th>1</th>\n",
       "      <td>50</td>\n",
       "      <td>Self-emp-not-inc</td>\n",
       "      <td>83311</td>\n",
       "      <td>Bachelors</td>\n",
       "      <td>13</td>\n",
       "      <td>Married-civ-spouse</td>\n",
       "      <td>Exec-managerial</td>\n",
       "      <td>Husband</td>\n",
       "      <td>White</td>\n",
       "      <td>Male</td>\n",
       "      <td>0</td>\n",
       "      <td>0</td>\n",
       "      <td>13</td>\n",
       "      <td>United-States</td>\n",
       "      <td>&lt;=50K</td>\n",
       "      <td>1</td>\n",
       "      <td>0</td>\n",
       "      <td>0</td>\n",
       "      <td>1</td>\n",
       "    </tr>\n",
       "    <tr>\n",
       "      <th>2</th>\n",
       "      <td>38</td>\n",
       "      <td>Private</td>\n",
       "      <td>215646</td>\n",
       "      <td>HS-grad</td>\n",
       "      <td>9</td>\n",
       "      <td>Divorced</td>\n",
       "      <td>Handlers-cleaners</td>\n",
       "      <td>Not-in-family</td>\n",
       "      <td>White</td>\n",
       "      <td>Male</td>\n",
       "      <td>0</td>\n",
       "      <td>0</td>\n",
       "      <td>40</td>\n",
       "      <td>United-States</td>\n",
       "      <td>&lt;=50K</td>\n",
       "      <td>1</td>\n",
       "      <td>0</td>\n",
       "      <td>0</td>\n",
       "      <td>1</td>\n",
       "    </tr>\n",
       "    <tr>\n",
       "      <th>3</th>\n",
       "      <td>53</td>\n",
       "      <td>Private</td>\n",
       "      <td>234721</td>\n",
       "      <td>11th</td>\n",
       "      <td>7</td>\n",
       "      <td>Married-civ-spouse</td>\n",
       "      <td>Handlers-cleaners</td>\n",
       "      <td>Husband</td>\n",
       "      <td>Black</td>\n",
       "      <td>Male</td>\n",
       "      <td>0</td>\n",
       "      <td>0</td>\n",
       "      <td>40</td>\n",
       "      <td>United-States</td>\n",
       "      <td>&lt;=50K</td>\n",
       "      <td>1</td>\n",
       "      <td>0</td>\n",
       "      <td>0</td>\n",
       "      <td>1</td>\n",
       "    </tr>\n",
       "    <tr>\n",
       "      <th>4</th>\n",
       "      <td>28</td>\n",
       "      <td>Private</td>\n",
       "      <td>338409</td>\n",
       "      <td>Bachelors</td>\n",
       "      <td>13</td>\n",
       "      <td>Married-civ-spouse</td>\n",
       "      <td>Prof-specialty</td>\n",
       "      <td>Wife</td>\n",
       "      <td>Black</td>\n",
       "      <td>Female</td>\n",
       "      <td>0</td>\n",
       "      <td>0</td>\n",
       "      <td>40</td>\n",
       "      <td>Cuba</td>\n",
       "      <td>&lt;=50K</td>\n",
       "      <td>1</td>\n",
       "      <td>0</td>\n",
       "      <td>1</td>\n",
       "      <td>0</td>\n",
       "    </tr>\n",
       "    <tr>\n",
       "      <th>5</th>\n",
       "      <td>37</td>\n",
       "      <td>Private</td>\n",
       "      <td>284582</td>\n",
       "      <td>Masters</td>\n",
       "      <td>14</td>\n",
       "      <td>Married-civ-spouse</td>\n",
       "      <td>Exec-managerial</td>\n",
       "      <td>Wife</td>\n",
       "      <td>White</td>\n",
       "      <td>Female</td>\n",
       "      <td>0</td>\n",
       "      <td>0</td>\n",
       "      <td>40</td>\n",
       "      <td>United-States</td>\n",
       "      <td>&lt;=50K</td>\n",
       "      <td>1</td>\n",
       "      <td>0</td>\n",
       "      <td>1</td>\n",
       "      <td>0</td>\n",
       "    </tr>\n",
       "    <tr>\n",
       "      <th>6</th>\n",
       "      <td>49</td>\n",
       "      <td>Private</td>\n",
       "      <td>160187</td>\n",
       "      <td>9th</td>\n",
       "      <td>5</td>\n",
       "      <td>Married-spouse-absent</td>\n",
       "      <td>Other-service</td>\n",
       "      <td>Not-in-family</td>\n",
       "      <td>Black</td>\n",
       "      <td>Female</td>\n",
       "      <td>0</td>\n",
       "      <td>0</td>\n",
       "      <td>16</td>\n",
       "      <td>Jamaica</td>\n",
       "      <td>&lt;=50K</td>\n",
       "      <td>1</td>\n",
       "      <td>0</td>\n",
       "      <td>1</td>\n",
       "      <td>0</td>\n",
       "    </tr>\n",
       "    <tr>\n",
       "      <th>7</th>\n",
       "      <td>52</td>\n",
       "      <td>Self-emp-not-inc</td>\n",
       "      <td>209642</td>\n",
       "      <td>HS-grad</td>\n",
       "      <td>9</td>\n",
       "      <td>Married-civ-spouse</td>\n",
       "      <td>Exec-managerial</td>\n",
       "      <td>Husband</td>\n",
       "      <td>White</td>\n",
       "      <td>Male</td>\n",
       "      <td>0</td>\n",
       "      <td>0</td>\n",
       "      <td>45</td>\n",
       "      <td>United-States</td>\n",
       "      <td>&gt;50K</td>\n",
       "      <td>0</td>\n",
       "      <td>1</td>\n",
       "      <td>0</td>\n",
       "      <td>1</td>\n",
       "    </tr>\n",
       "    <tr>\n",
       "      <th>8</th>\n",
       "      <td>31</td>\n",
       "      <td>Private</td>\n",
       "      <td>45781</td>\n",
       "      <td>Masters</td>\n",
       "      <td>14</td>\n",
       "      <td>Never-married</td>\n",
       "      <td>Prof-specialty</td>\n",
       "      <td>Not-in-family</td>\n",
       "      <td>White</td>\n",
       "      <td>Female</td>\n",
       "      <td>14084</td>\n",
       "      <td>0</td>\n",
       "      <td>50</td>\n",
       "      <td>United-States</td>\n",
       "      <td>&gt;50K</td>\n",
       "      <td>0</td>\n",
       "      <td>1</td>\n",
       "      <td>1</td>\n",
       "      <td>0</td>\n",
       "    </tr>\n",
       "    <tr>\n",
       "      <th>9</th>\n",
       "      <td>42</td>\n",
       "      <td>Private</td>\n",
       "      <td>159449</td>\n",
       "      <td>Bachelors</td>\n",
       "      <td>13</td>\n",
       "      <td>Married-civ-spouse</td>\n",
       "      <td>Exec-managerial</td>\n",
       "      <td>Husband</td>\n",
       "      <td>White</td>\n",
       "      <td>Male</td>\n",
       "      <td>5178</td>\n",
       "      <td>0</td>\n",
       "      <td>40</td>\n",
       "      <td>United-States</td>\n",
       "      <td>&gt;50K</td>\n",
       "      <td>0</td>\n",
       "      <td>1</td>\n",
       "      <td>0</td>\n",
       "      <td>1</td>\n",
       "    </tr>\n",
       "  </tbody>\n",
       "</table>\n",
       "</div>"
      ],
      "text/plain": [
       "   Age         Workclass  Fnlwgt  Education  EducationNum  \\\n",
       "0   39         State-gov   77516  Bachelors            13   \n",
       "1   50  Self-emp-not-inc   83311  Bachelors            13   \n",
       "2   38           Private  215646    HS-grad             9   \n",
       "3   53           Private  234721       11th             7   \n",
       "4   28           Private  338409  Bachelors            13   \n",
       "5   37           Private  284582    Masters            14   \n",
       "6   49           Private  160187        9th             5   \n",
       "7   52  Self-emp-not-inc  209642    HS-grad             9   \n",
       "8   31           Private   45781    Masters            14   \n",
       "9   42           Private  159449  Bachelors            13   \n",
       "\n",
       "                 Marital         Occupation   Relationship   Race     Sex  \\\n",
       "0          Never-married       Adm-clerical  Not-in-family  White    Male   \n",
       "1     Married-civ-spouse    Exec-managerial        Husband  White    Male   \n",
       "2               Divorced  Handlers-cleaners  Not-in-family  White    Male   \n",
       "3     Married-civ-spouse  Handlers-cleaners        Husband  Black    Male   \n",
       "4     Married-civ-spouse     Prof-specialty           Wife  Black  Female   \n",
       "5     Married-civ-spouse    Exec-managerial           Wife  White  Female   \n",
       "6  Married-spouse-absent      Other-service  Not-in-family  Black  Female   \n",
       "7     Married-civ-spouse    Exec-managerial        Husband  White    Male   \n",
       "8          Never-married     Prof-specialty  Not-in-family  White  Female   \n",
       "9     Married-civ-spouse    Exec-managerial        Husband  White    Male   \n",
       "\n",
       "   CapitalGain  CapitalLoss  HoursPerWeek  NativeCountry Income  \\\n",
       "0         2174            0            40  United-States  <=50K   \n",
       "1            0            0            13  United-States  <=50K   \n",
       "2            0            0            40  United-States  <=50K   \n",
       "3            0            0            40  United-States  <=50K   \n",
       "4            0            0            40           Cuba  <=50K   \n",
       "5            0            0            40  United-States  <=50K   \n",
       "6            0            0            16        Jamaica  <=50K   \n",
       "7            0            0            45  United-States   >50K   \n",
       "8        14084            0            50  United-States   >50K   \n",
       "9         5178            0            40  United-States   >50K   \n",
       "\n",
       "   LessEqualThan50  MoreThan50  Female  Male  \n",
       "0                1           0       0     1  \n",
       "1                1           0       0     1  \n",
       "2                1           0       0     1  \n",
       "3                1           0       0     1  \n",
       "4                1           0       1     0  \n",
       "5                1           0       1     0  \n",
       "6                1           0       1     0  \n",
       "7                0           1       0     1  \n",
       "8                0           1       1     0  \n",
       "9                0           1       0     1  "
      ]
     },
     "execution_count": 268,
     "metadata": {},
     "output_type": "execute_result"
    }
   ],
   "source": [
    "#Encoding column Sex for ML section\n",
    "newcol=pd.get_dummies(census['Sex'])\n",
    "census=pd.concat([census,newcol],axis=1)\n",
    "#census.drop(['Sex'],axis=1,inplace=True)\n",
    "census.head(10)"
   ]
  },
  {
   "cell_type": "code",
   "execution_count": 269,
   "metadata": {},
   "outputs": [
    {
     "data": {
      "text/plain": [
       "Age                   74\n",
       "Workclass              8\n",
       "Fnlwgt             28523\n",
       "Education             16\n",
       "EducationNum          16\n",
       "Marital                7\n",
       "Occupation            14\n",
       "Relationship           6\n",
       "Race                   5\n",
       "Sex                    2\n",
       "CapitalGain          123\n",
       "CapitalLoss           99\n",
       "HoursPerWeek          96\n",
       "NativeCountry         41\n",
       "Income                 2\n",
       "LessEqualThan50        2\n",
       "MoreThan50             2\n",
       "Female                 2\n",
       "Male                   2\n",
       "dtype: int64"
      ]
     },
     "execution_count": 269,
     "metadata": {},
     "output_type": "execute_result"
    }
   ],
   "source": [
    "#Unique values, not including missing data\n",
    "census.nunique() "
   ]
  },
  {
   "cell_type": "code",
   "execution_count": 270,
   "metadata": {},
   "outputs": [
    {
     "name": "stdout",
     "output_type": "stream",
     "text": [
      "---- Age ---\n",
      "36    1348\n",
      "35    1337\n",
      "33    1335\n",
      "23    1329\n",
      "31    1325\n",
      "      ... \n",
      "88       6\n",
      "85       5\n",
      "87       3\n",
      "89       2\n",
      "86       1\n",
      "Name: Age, Length: 74, dtype: int64\n",
      "---- Workclass ---\n",
      "Private             33906\n",
      "Self-emp-not-inc     3862\n",
      "Local-gov            3136\n",
      "State-gov            1981\n",
      "Self-emp-inc         1695\n",
      "Federal-gov          1432\n",
      "Without-pay            21\n",
      "Never-worked           10\n",
      "Name: Workclass, dtype: int64\n",
      "---- Fnlwgt ---\n",
      "203488    21\n",
      "120277    19\n",
      "190290    19\n",
      "125892    18\n",
      "126569    18\n",
      "          ..\n",
      "170272     1\n",
      "137444     1\n",
      "172327     1\n",
      "111368     1\n",
      "208174     1\n",
      "Name: Fnlwgt, Length: 28523, dtype: int64\n",
      "---- Education ---\n",
      "HS-grad         15784\n",
      "Some-college    10878\n",
      "Bachelors        8025\n",
      "Masters          2657\n",
      "Assoc-voc        2061\n",
      "11th             1812\n",
      "Assoc-acdm       1601\n",
      "10th             1389\n",
      "7th-8th           955\n",
      "Prof-school       834\n",
      "9th               756\n",
      "12th              657\n",
      "Doctorate         594\n",
      "5th-6th           509\n",
      "1st-4th           247\n",
      "Preschool          83\n",
      "Name: Education, dtype: int64\n",
      "---- EducationNum ---\n",
      "9     15784\n",
      "10    10878\n",
      "13     8025\n",
      "14     2657\n",
      "11     2061\n",
      "7      1812\n",
      "12     1601\n",
      "6      1389\n",
      "4       955\n",
      "15      834\n",
      "5       756\n",
      "8       657\n",
      "16      594\n",
      "3       509\n",
      "2       247\n",
      "1        83\n",
      "Name: EducationNum, dtype: int64\n",
      "---- Marital ---\n",
      "Married-civ-spouse       22379\n",
      "Never-married            16117\n",
      "Divorced                  6633\n",
      "Separated                 1530\n",
      "Widowed                   1518\n",
      "Married-spouse-absent      628\n",
      "Married-AF-spouse           37\n",
      "Name: Marital, dtype: int64\n",
      "---- Occupation ---\n",
      "Prof-specialty       6172\n",
      "Craft-repair         6112\n",
      "Exec-managerial      6086\n",
      "Adm-clerical         5611\n",
      "Sales                5504\n",
      "Other-service        4923\n",
      "Machine-op-inspct    3022\n",
      "Transport-moving     2355\n",
      "Handlers-cleaners    2072\n",
      "Farming-fishing      1490\n",
      "Tech-support         1446\n",
      "Protective-serv       983\n",
      "Priv-house-serv       242\n",
      "Armed-Forces           15\n",
      "Name: Occupation, dtype: int64\n",
      "---- Relationship ---\n",
      "Husband           19716\n",
      "Not-in-family     12583\n",
      "Own-child          7581\n",
      "Unmarried          5125\n",
      "Wife               2331\n",
      "Other-relative     1506\n",
      "Name: Relationship, dtype: int64\n",
      "---- Race ---\n",
      "White                 41762\n",
      "Black                  4685\n",
      "Asian-Pac-Islander     1519\n",
      "Amer-Indian-Eskimo      470\n",
      "Other                   406\n",
      "Name: Race, dtype: int64\n",
      "---- Sex ---\n",
      "Male      32650\n",
      "Female    16192\n",
      "Name: Sex, dtype: int64\n",
      "---- CapitalGain ---\n",
      "0        44807\n",
      "15024      513\n",
      "7688       410\n",
      "7298       364\n",
      "99999      244\n",
      "         ...  \n",
      "2387         1\n",
      "22040        1\n",
      "6612         1\n",
      "1111         1\n",
      "1639         1\n",
      "Name: CapitalGain, Length: 123, dtype: int64\n",
      "---- CapitalLoss ---\n",
      "0       46560\n",
      "1902      304\n",
      "1977      253\n",
      "1887      233\n",
      "2415       72\n",
      "        ...  \n",
      "1539        1\n",
      "2489        1\n",
      "2201        1\n",
      "1421        1\n",
      "1870        1\n",
      "Name: CapitalLoss, Length: 99, dtype: int64\n",
      "---- HoursPerWeek ---\n",
      "40    22803\n",
      "50     4246\n",
      "45     2717\n",
      "60     2177\n",
      "35     1937\n",
      "      ...  \n",
      "69        1\n",
      "94        1\n",
      "79        1\n",
      "82        1\n",
      "87        1\n",
      "Name: HoursPerWeek, Length: 96, dtype: int64\n",
      "---- NativeCountry ---\n",
      "United-States                 43832\n",
      "Mexico                          951\n",
      "Philippines                     295\n",
      "Germany                         206\n",
      "Puerto-Rico                     184\n",
      "Canada                          182\n",
      "El-Salvador                     155\n",
      "India                           151\n",
      "Cuba                            138\n",
      "England                         127\n",
      "China                           122\n",
      "South                           115\n",
      "Jamaica                         106\n",
      "Italy                           105\n",
      "Dominican-Republic              103\n",
      "Japan                            92\n",
      "Guatemala                        88\n",
      "Poland                           87\n",
      "Vietnam                          86\n",
      "Columbia                         85\n",
      "Haiti                            75\n",
      "Portugal                         67\n",
      "Taiwan                           65\n",
      "Iran                             59\n",
      "Nicaragua                        49\n",
      "Greece                           49\n",
      "Peru                             46\n",
      "Ecuador                          45\n",
      "France                           38\n",
      "Ireland                          37\n",
      "Thailand                         30\n",
      "Hong                             30\n",
      "Cambodia                         28\n",
      "Trinadad&Tobago                  27\n",
      "Outlying-US(Guam-USVI-etc)       23\n",
      "Laos                             23\n",
      "Yugoslavia                       23\n",
      "Scotland                         21\n",
      "Honduras                         20\n",
      "Hungary                          19\n",
      "Holand-Netherlands                1\n",
      "Name: NativeCountry, dtype: int64\n",
      "---- Income ---\n",
      "<=50K    37155\n",
      ">50K     11687\n",
      "Name: Income, dtype: int64\n",
      "---- LessEqualThan50 ---\n",
      "1    37155\n",
      "0    11687\n",
      "Name: LessEqualThan50, dtype: int64\n",
      "---- MoreThan50 ---\n",
      "0    37155\n",
      "1    11687\n",
      "Name: MoreThan50, dtype: int64\n",
      "---- Female ---\n",
      "0    32650\n",
      "1    16192\n",
      "Name: Female, dtype: int64\n",
      "---- Male ---\n",
      "1    32650\n",
      "0    16192\n",
      "Name: Male, dtype: int64\n"
     ]
    }
   ],
   "source": [
    "# Running a loop of value_counts of each column to find out unique values. \n",
    "for c in census.columns:\n",
    "    print (\"---- %s ---\" % c)\n",
    "    print (census[c].value_counts())"
   ]
  },
  {
   "cell_type": "code",
   "execution_count": 271,
   "metadata": {},
   "outputs": [
    {
     "data": {
      "text/plain": [
       "(48842, 19)"
      ]
     },
     "execution_count": 271,
     "metadata": {},
     "output_type": "execute_result"
    }
   ],
   "source": [
    "census.shape"
   ]
  },
  {
   "cell_type": "code",
   "execution_count": 272,
   "metadata": {},
   "outputs": [],
   "source": [
    "# Dropping based on uniqueness of data from the dataset\n",
    "# Education is already represented with EducationNum\n",
    "# Fnlwgt is represented by Race, Age, Sex \n",
    "# Relationship is represented with Marital status\n",
    "\n",
    "census.drop(['Education', 'Fnlwgt','Marital'], axis=1, inplace=True)"
   ]
  },
  {
   "cell_type": "code",
   "execution_count": 273,
   "metadata": {},
   "outputs": [
    {
     "data": {
      "text/plain": [
       "(48842, 16)"
      ]
     },
     "execution_count": 273,
     "metadata": {},
     "output_type": "execute_result"
    }
   ],
   "source": [
    "census.shape"
   ]
  },
  {
   "cell_type": "markdown",
   "metadata": {},
   "source": [
    "### Missing Values"
   ]
  },
  {
   "cell_type": "code",
   "execution_count": 274,
   "metadata": {},
   "outputs": [
    {
     "data": {
      "text/plain": [
       "True"
      ]
     },
     "execution_count": 274,
     "metadata": {},
     "output_type": "execute_result"
    }
   ],
   "source": [
    "#Any missing data detected? T or F\n",
    "census.isnull().values.any()"
   ]
  },
  {
   "cell_type": "code",
   "execution_count": 275,
   "metadata": {},
   "outputs": [
    {
     "data": {
      "text/plain": [
       "Age                   0\n",
       "Workclass          2799\n",
       "EducationNum          0\n",
       "Occupation         2809\n",
       "Relationship          0\n",
       "Race                  0\n",
       "Sex                   0\n",
       "CapitalGain           0\n",
       "CapitalLoss           0\n",
       "HoursPerWeek          0\n",
       "NativeCountry       857\n",
       "Income                0\n",
       "LessEqualThan50       0\n",
       "MoreThan50            0\n",
       "Female                0\n",
       "Male                  0\n",
       "dtype: int64"
      ]
     },
     "execution_count": 275,
     "metadata": {},
     "output_type": "execute_result"
    }
   ],
   "source": [
    "#Missing values per attribute\n",
    "census.isnull().sum(axis=0)"
   ]
  },
  {
   "cell_type": "code",
   "execution_count": 276,
   "metadata": {},
   "outputs": [
    {
     "data": {
      "text/plain": [
       "6465"
      ]
     },
     "execution_count": 276,
     "metadata": {},
     "output_type": "execute_result"
    }
   ],
   "source": [
    "# Total number of missing values\n",
    "census.isnull().sum().sum()"
   ]
  },
  {
   "cell_type": "code",
   "execution_count": 277,
   "metadata": {},
   "outputs": [],
   "source": [
    "# drop rows with missing\n",
    "census = census.dropna()"
   ]
  },
  {
   "cell_type": "code",
   "execution_count": 278,
   "metadata": {},
   "outputs": [
    {
     "data": {
      "text/plain": [
       "0"
      ]
     },
     "execution_count": 278,
     "metadata": {},
     "output_type": "execute_result"
    }
   ],
   "source": [
    "# Updated Census dataset\n",
    "census.isnull().sum().sum()"
   ]
  },
  {
   "cell_type": "code",
   "execution_count": 279,
   "metadata": {},
   "outputs": [
    {
     "data": {
      "text/plain": [
       "Age                0\n",
       "Workclass          0\n",
       "EducationNum       0\n",
       "Occupation         0\n",
       "Relationship       0\n",
       "Race               0\n",
       "Sex                0\n",
       "CapitalGain        0\n",
       "CapitalLoss        0\n",
       "HoursPerWeek       0\n",
       "NativeCountry      0\n",
       "Income             0\n",
       "LessEqualThan50    0\n",
       "MoreThan50         0\n",
       "Female             0\n",
       "Male               0\n",
       "dtype: int64"
      ]
     },
     "execution_count": 279,
     "metadata": {},
     "output_type": "execute_result"
    }
   ],
   "source": [
    "# Missing values per attribute\n",
    "census.isnull().sum(axis=0)"
   ]
  },
  {
   "cell_type": "code",
   "execution_count": 280,
   "metadata": {},
   "outputs": [],
   "source": [
    "#Census Complete = cc\n",
    "cc = census.copy()"
   ]
  },
  {
   "cell_type": "code",
   "execution_count": 281,
   "metadata": {},
   "outputs": [],
   "source": [
    "#Census scaled to MinMaxScalling for numeral features, which converts data in ranges 0 and 1.\n",
    "cc_prep = census.copy()"
   ]
  },
  {
   "cell_type": "code",
   "execution_count": 282,
   "metadata": {},
   "outputs": [],
   "source": [
    "# Normalizing the data\n",
    "from sklearn.preprocessing import MinMaxScaler\n",
    "numerical = ['Age', 'CapitalGain', 'CapitalLoss', 'HoursPerWeek']\n",
    "\n",
    "scaler = MinMaxScaler()\n",
    "cc_prep[numerical] = scaler.fit_transform(cc_prep[numerical])"
   ]
  },
  {
   "cell_type": "code",
   "execution_count": 283,
   "metadata": {},
   "outputs": [
    {
     "data": {
      "text/plain": [
       "0"
      ]
     },
     "execution_count": 283,
     "metadata": {},
     "output_type": "execute_result"
    }
   ],
   "source": [
    "# Confirming all missing data is 0\n",
    "cc_prep.isnull().sum().sum()"
   ]
  },
  {
   "cell_type": "code",
   "execution_count": 284,
   "metadata": {},
   "outputs": [
    {
     "name": "stdout",
     "output_type": "stream",
     "text": [
      "---- Age ---\n",
      "36    1283\n",
      "33    1279\n",
      "31    1274\n",
      "35    1272\n",
      "23    1241\n",
      "      ... \n",
      "85       5\n",
      "88       5\n",
      "86       1\n",
      "87       1\n",
      "89       1\n",
      "Name: Age, Length: 74, dtype: int64\n",
      "---- Workclass ---\n",
      "Private             33307\n",
      "Self-emp-not-inc     3796\n",
      "Local-gov            3100\n",
      "State-gov            1946\n",
      "Self-emp-inc         1646\n",
      "Federal-gov          1406\n",
      "Without-pay            21\n",
      "Name: Workclass, dtype: int64\n",
      "---- EducationNum ---\n",
      "9     14783\n",
      "10     9899\n",
      "13     7570\n",
      "14     2514\n",
      "11     1959\n",
      "7      1619\n",
      "12     1507\n",
      "6      1223\n",
      "4       823\n",
      "15      785\n",
      "5       676\n",
      "8       577\n",
      "16      544\n",
      "3       449\n",
      "2       222\n",
      "1        72\n",
      "Name: EducationNum, dtype: int64\n",
      "---- Occupation ---\n",
      "Craft-repair         6020\n",
      "Prof-specialty       6008\n",
      "Exec-managerial      5984\n",
      "Adm-clerical         5540\n",
      "Sales                5408\n",
      "Other-service        4808\n",
      "Machine-op-inspct    2970\n",
      "Transport-moving     2316\n",
      "Handlers-cleaners    2046\n",
      "Farming-fishing      1480\n",
      "Tech-support         1420\n",
      "Protective-serv       976\n",
      "Priv-house-serv       232\n",
      "Armed-Forces           14\n",
      "Name: Occupation, dtype: int64\n",
      "---- Relationship ---\n",
      "Husband           18666\n",
      "Not-in-family     11702\n",
      "Own-child          6626\n",
      "Unmarried          4788\n",
      "Wife               2091\n",
      "Other-relative     1349\n",
      "Name: Relationship, dtype: int64\n",
      "---- Race ---\n",
      "White                 38903\n",
      "Black                  4228\n",
      "Asian-Pac-Islander     1303\n",
      "Amer-Indian-Eskimo      435\n",
      "Other                   353\n",
      "Name: Race, dtype: int64\n",
      "---- Sex ---\n",
      "Male      30527\n",
      "Female    14695\n",
      "Name: Sex, dtype: int64\n",
      "---- CapitalGain ---\n",
      "0        41432\n",
      "15024      498\n",
      "7688       391\n",
      "7298       351\n",
      "99999      229\n",
      "         ...  \n",
      "1731         1\n",
      "22040        1\n",
      "7262         1\n",
      "1639         1\n",
      "2387         1\n",
      "Name: CapitalGain, Length: 121, dtype: int64\n",
      "---- CapitalLoss ---\n",
      "0       43082\n",
      "1902      294\n",
      "1977      246\n",
      "1887      228\n",
      "2415       68\n",
      "        ...  \n",
      "2201        1\n",
      "1421        1\n",
      "4356        1\n",
      "2163        1\n",
      "1870        1\n",
      "Name: CapitalLoss, Length: 97, dtype: int64\n",
      "---- HoursPerWeek ---\n",
      "40    21358\n",
      "50     4094\n",
      "45     2602\n",
      "60     2085\n",
      "35     1776\n",
      "      ...  \n",
      "69        1\n",
      "94        1\n",
      "79        1\n",
      "82        1\n",
      "87        1\n",
      "Name: HoursPerWeek, Length: 96, dtype: int64\n",
      "---- NativeCountry ---\n",
      "United-States                 41292\n",
      "Mexico                          903\n",
      "Philippines                     283\n",
      "Germany                         193\n",
      "Puerto-Rico                     175\n",
      "Canada                          163\n",
      "India                           147\n",
      "El-Salvador                     147\n",
      "Cuba                            133\n",
      "England                         119\n",
      "China                           113\n",
      "Jamaica                         103\n",
      "South                           101\n",
      "Italy                           100\n",
      "Dominican-Republic               97\n",
      "Japan                            89\n",
      "Guatemala                        86\n",
      "Vietnam                          83\n",
      "Columbia                         82\n",
      "Poland                           81\n",
      "Haiti                            69\n",
      "Portugal                         62\n",
      "Iran                             56\n",
      "Taiwan                           55\n",
      "Greece                           49\n",
      "Nicaragua                        48\n",
      "Peru                             45\n",
      "Ecuador                          43\n",
      "France                           36\n",
      "Ireland                          36\n",
      "Thailand                         29\n",
      "Hong                             28\n",
      "Trinadad&Tobago                  26\n",
      "Cambodia                         26\n",
      "Yugoslavia                       23\n",
      "Outlying-US(Guam-USVI-etc)       22\n",
      "Laos                             21\n",
      "Scotland                         20\n",
      "Honduras                         19\n",
      "Hungary                          18\n",
      "Holand-Netherlands                1\n",
      "Name: NativeCountry, dtype: int64\n",
      "---- Income ---\n",
      "<=50K    34014\n",
      ">50K     11208\n",
      "Name: Income, dtype: int64\n",
      "---- LessEqualThan50 ---\n",
      "1    34014\n",
      "0    11208\n",
      "Name: LessEqualThan50, dtype: int64\n",
      "---- MoreThan50 ---\n",
      "0    34014\n",
      "1    11208\n",
      "Name: MoreThan50, dtype: int64\n",
      "---- Female ---\n",
      "0    30527\n",
      "1    14695\n",
      "Name: Female, dtype: int64\n",
      "---- Male ---\n",
      "1    30527\n",
      "0    14695\n",
      "Name: Male, dtype: int64\n"
     ]
    }
   ],
   "source": [
    "# Running a loop of value_counts of each column to find out unique values. \n",
    "for c in cc_prep.columns:\n",
    "    print (\"---- %s ---\" % c)\n",
    "    print (cc[c].value_counts())"
   ]
  },
  {
   "cell_type": "code",
   "execution_count": 285,
   "metadata": {},
   "outputs": [
    {
     "data": {
      "text/plain": [
       "(45222, 16)"
      ]
     },
     "execution_count": 285,
     "metadata": {},
     "output_type": "execute_result"
    }
   ],
   "source": [
    "# 45222 rows after duplicate and null rows were removed in census file\n",
    "cc_prep.shape"
   ]
  },
  {
   "cell_type": "code",
   "execution_count": 286,
   "metadata": {},
   "outputs": [
    {
     "data": {
      "text/html": [
       "<div>\n",
       "<style scoped>\n",
       "    .dataframe tbody tr th:only-of-type {\n",
       "        vertical-align: middle;\n",
       "    }\n",
       "\n",
       "    .dataframe tbody tr th {\n",
       "        vertical-align: top;\n",
       "    }\n",
       "\n",
       "    .dataframe thead th {\n",
       "        text-align: right;\n",
       "    }\n",
       "</style>\n",
       "<table border=\"1\" class=\"dataframe\">\n",
       "  <thead>\n",
       "    <tr style=\"text-align: right;\">\n",
       "      <th></th>\n",
       "      <th>Age</th>\n",
       "      <th>Workclass</th>\n",
       "      <th>EducationNum</th>\n",
       "      <th>Occupation</th>\n",
       "      <th>Relationship</th>\n",
       "      <th>Race</th>\n",
       "      <th>Sex</th>\n",
       "      <th>CapitalGain</th>\n",
       "      <th>CapitalLoss</th>\n",
       "      <th>HoursPerWeek</th>\n",
       "      <th>NativeCountry</th>\n",
       "      <th>Income</th>\n",
       "      <th>LessEqualThan50</th>\n",
       "      <th>MoreThan50</th>\n",
       "      <th>Female</th>\n",
       "      <th>Male</th>\n",
       "    </tr>\n",
       "  </thead>\n",
       "  <tbody>\n",
       "    <tr>\n",
       "      <th>0</th>\n",
       "      <td>0.301370</td>\n",
       "      <td>State-gov</td>\n",
       "      <td>13</td>\n",
       "      <td>Adm-clerical</td>\n",
       "      <td>Not-in-family</td>\n",
       "      <td>White</td>\n",
       "      <td>Male</td>\n",
       "      <td>0.02174</td>\n",
       "      <td>0.0</td>\n",
       "      <td>0.397959</td>\n",
       "      <td>United-States</td>\n",
       "      <td>&lt;=50K</td>\n",
       "      <td>1</td>\n",
       "      <td>0</td>\n",
       "      <td>0</td>\n",
       "      <td>1</td>\n",
       "    </tr>\n",
       "    <tr>\n",
       "      <th>1</th>\n",
       "      <td>0.452055</td>\n",
       "      <td>Self-emp-not-inc</td>\n",
       "      <td>13</td>\n",
       "      <td>Exec-managerial</td>\n",
       "      <td>Husband</td>\n",
       "      <td>White</td>\n",
       "      <td>Male</td>\n",
       "      <td>0.00000</td>\n",
       "      <td>0.0</td>\n",
       "      <td>0.122449</td>\n",
       "      <td>United-States</td>\n",
       "      <td>&lt;=50K</td>\n",
       "      <td>1</td>\n",
       "      <td>0</td>\n",
       "      <td>0</td>\n",
       "      <td>1</td>\n",
       "    </tr>\n",
       "    <tr>\n",
       "      <th>2</th>\n",
       "      <td>0.287671</td>\n",
       "      <td>Private</td>\n",
       "      <td>9</td>\n",
       "      <td>Handlers-cleaners</td>\n",
       "      <td>Not-in-family</td>\n",
       "      <td>White</td>\n",
       "      <td>Male</td>\n",
       "      <td>0.00000</td>\n",
       "      <td>0.0</td>\n",
       "      <td>0.397959</td>\n",
       "      <td>United-States</td>\n",
       "      <td>&lt;=50K</td>\n",
       "      <td>1</td>\n",
       "      <td>0</td>\n",
       "      <td>0</td>\n",
       "      <td>1</td>\n",
       "    </tr>\n",
       "  </tbody>\n",
       "</table>\n",
       "</div>"
      ],
      "text/plain": [
       "        Age         Workclass  EducationNum         Occupation   Relationship  \\\n",
       "0  0.301370         State-gov            13       Adm-clerical  Not-in-family   \n",
       "1  0.452055  Self-emp-not-inc            13    Exec-managerial        Husband   \n",
       "2  0.287671           Private             9  Handlers-cleaners  Not-in-family   \n",
       "\n",
       "    Race   Sex  CapitalGain  CapitalLoss  HoursPerWeek  NativeCountry Income  \\\n",
       "0  White  Male      0.02174          0.0      0.397959  United-States  <=50K   \n",
       "1  White  Male      0.00000          0.0      0.122449  United-States  <=50K   \n",
       "2  White  Male      0.00000          0.0      0.397959  United-States  <=50K   \n",
       "\n",
       "   LessEqualThan50  MoreThan50  Female  Male  \n",
       "0                1           0       0     1  \n",
       "1                1           0       0     1  \n",
       "2                1           0       0     1  "
      ]
     },
     "execution_count": 286,
     "metadata": {},
     "output_type": "execute_result"
    }
   ],
   "source": [
    "cc_prep.head(3)"
   ]
  },
  {
   "cell_type": "markdown",
   "metadata": {},
   "source": [
    "# IV Descriptive and Exploratory Analysis"
   ]
  },
  {
   "cell_type": "code",
   "execution_count": 287,
   "metadata": {},
   "outputs": [
    {
     "data": {
      "image/png": "[encoded data removed]",
      "text/plain": [
       "<Figure size 1440x1080 with 16 Axes>"
      ]
     },
     "metadata": {
      "needs_background": "light"
     },
     "output_type": "display_data"
    }
   ],
   "source": [
    "fig = plt.figure(figsize=(20,15))\n",
    "cols = 5\n",
    "rows = np.ceil(float(cc.shape[1]) / cols)\n",
    "for i, column in enumerate(cc.columns):\n",
    "    ax = fig.add_subplot(rows, cols, i + 1)\n",
    "    ax.set_title(column)\n",
    "    if cc.dtypes[column] == np.object:\n",
    "        cc[column].value_counts().plot(kind=\"bar\", axes=ax)\n",
    "    else:\n",
    "        cc[column].hist(axes=ax)\n",
    "        plt.xticks(rotation=\"vertical\")\n",
    "plt.subplots_adjust(hspace=0.7, wspace=0.2)"
   ]
  },
  {
   "cell_type": "code",
   "execution_count": 288,
   "metadata": {},
   "outputs": [
    {
     "data": {
      "image/png": "[encoded data removed]",
      "text/plain": [
       "<Figure size 432x216 with 2 Axes>"
      ]
     },
     "metadata": {
      "needs_background": "light"
     },
     "output_type": "display_data"
    }
   ],
   "source": [
    "# Explore Age vs Income\n",
    "g = sns.FacetGrid(cc, col='Income')\n",
    "g = g.map(sns.distplot, \"Age\")\n",
    "plt.show()"
   ]
  },
  {
   "cell_type": "code",
   "execution_count": 289,
   "metadata": {},
   "outputs": [
    {
     "ename": "NameError",
     "evalue": "name 'numeric_features' is not defined",
     "output_type": "error",
     "traceback": [
      "\u001b[1;31m---------------------------------------------------------------------------\u001b[0m",
      "\u001b[1;31mNameError\u001b[0m                                 Traceback (most recent call last)",
      "\u001b[1;32m<ipython-input-289-145be01cd16a>\u001b[0m in \u001b[0;36m<module>\u001b[1;34m\u001b[0m\n\u001b[0;32m      1\u001b[0m \u001b[1;31m# Correlation matrix between numerical values\u001b[0m\u001b[1;33m\u001b[0m\u001b[1;33m\u001b[0m\u001b[1;33m\u001b[0m\u001b[0m\n\u001b[1;32m----> 2\u001b[1;33m \u001b[0mg\u001b[0m \u001b[1;33m=\u001b[0m \u001b[0msns\u001b[0m\u001b[1;33m.\u001b[0m\u001b[0mheatmap\u001b[0m\u001b[1;33m(\u001b[0m\u001b[0mcc\u001b[0m\u001b[1;33m[\u001b[0m\u001b[0mnumeric_features\u001b[0m\u001b[1;33m]\u001b[0m\u001b[1;33m.\u001b[0m\u001b[0mcorr\u001b[0m\u001b[1;33m(\u001b[0m\u001b[1;33m)\u001b[0m\u001b[1;33m,\u001b[0m\u001b[0mannot\u001b[0m\u001b[1;33m=\u001b[0m\u001b[1;32mTrue\u001b[0m\u001b[1;33m,\u001b[0m \u001b[0mfmt\u001b[0m \u001b[1;33m=\u001b[0m \u001b[1;34m\".2f\"\u001b[0m\u001b[1;33m,\u001b[0m \u001b[0mcmap\u001b[0m \u001b[1;33m=\u001b[0m \u001b[1;34m\"coolwarm\"\u001b[0m\u001b[1;33m)\u001b[0m\u001b[1;33m\u001b[0m\u001b[1;33m\u001b[0m\u001b[0m\n\u001b[0m\u001b[0;32m      3\u001b[0m \u001b[0mplt\u001b[0m\u001b[1;33m.\u001b[0m\u001b[0mshow\u001b[0m\u001b[1;33m(\u001b[0m\u001b[1;33m)\u001b[0m\u001b[1;33m\u001b[0m\u001b[1;33m\u001b[0m\u001b[0m\n",
      "\u001b[1;31mNameError\u001b[0m: name 'numeric_features' is not defined"
     ]
    }
   ],
   "source": [
    "# Correlation matrix between numerical values\n",
    "g = sns.heatmap(cc[numeric_features].corr(),annot=True, fmt = \".2f\", cmap = \"coolwarm\")\n",
    "plt.show()"
   ]
  },
  {
   "cell_type": "code",
   "execution_count": null,
   "metadata": {},
   "outputs": [],
   "source": [
    "display(cc.corr())"
   ]
  },
  {
   "cell_type": "code",
   "execution_count": 294,
   "metadata": {},
   "outputs": [
    {
     "data": {
      "text/markdown": [
       "## Relationship by Gender"
      ],
      "text/plain": [
       "<IPython.core.display.Markdown object>"
      ]
     },
     "metadata": {},
     "output_type": "display_data"
    },
    {
     "data": {
      "text/html": [
       "<div>\n",
       "<style scoped>\n",
       "    .dataframe tbody tr th:only-of-type {\n",
       "        vertical-align: middle;\n",
       "    }\n",
       "\n",
       "    .dataframe tbody tr th {\n",
       "        vertical-align: top;\n",
       "    }\n",
       "\n",
       "    .dataframe thead th {\n",
       "        text-align: right;\n",
       "    }\n",
       "</style>\n",
       "<table border=\"1\" class=\"dataframe\">\n",
       "  <thead>\n",
       "    <tr style=\"text-align: right;\">\n",
       "      <th></th>\n",
       "      <th>Sex</th>\n",
       "      <th>Relationship</th>\n",
       "    </tr>\n",
       "  </thead>\n",
       "  <tbody>\n",
       "    <tr>\n",
       "      <th>0</th>\n",
       "      <td>Male</td>\n",
       "      <td>Not-in-family</td>\n",
       "    </tr>\n",
       "    <tr>\n",
       "      <th>1</th>\n",
       "      <td>Male</td>\n",
       "      <td>Husband</td>\n",
       "    </tr>\n",
       "    <tr>\n",
       "      <th>2</th>\n",
       "      <td>Male</td>\n",
       "      <td>Not-in-family</td>\n",
       "    </tr>\n",
       "    <tr>\n",
       "      <th>3</th>\n",
       "      <td>Male</td>\n",
       "      <td>Husband</td>\n",
       "    </tr>\n",
       "    <tr>\n",
       "      <th>4</th>\n",
       "      <td>Female</td>\n",
       "      <td>Wife</td>\n",
       "    </tr>\n",
       "  </tbody>\n",
       "</table>\n",
       "</div>"
      ],
      "text/plain": [
       "      Sex   Relationship\n",
       "0    Male  Not-in-family\n",
       "1    Male        Husband\n",
       "2    Male  Not-in-family\n",
       "3    Male        Husband\n",
       "4  Female           Wife"
      ]
     },
     "execution_count": 294,
     "metadata": {},
     "output_type": "execute_result"
    }
   ],
   "source": [
    "# Exploring\n",
    "printmd('## Relationship by Gender')\n",
    "cc[[\"Sex\", \"Relationship\"]].head(5)"
   ]
  },
  {
   "cell_type": "code",
   "execution_count": 295,
   "metadata": {},
   "outputs": [
    {
     "data": {
      "text/markdown": [
       "## Age vs Income"
      ],
      "text/plain": [
       "<IPython.core.display.Markdown object>"
      ]
     },
     "metadata": {},
     "output_type": "display_data"
    },
    {
     "data": {
      "text/markdown": [
       "The higher average age tends to make more than 50k.         In both cases, males have higher income than women.        "
      ],
      "text/plain": [
       "<IPython.core.display.Markdown object>"
      ]
     },
     "metadata": {},
     "output_type": "display_data"
    },
    {
     "data": {
      "image/png": "[encoded data removed]",
      "text/plain": [
       "<Figure size 576x432 with 1 Axes>"
      ]
     },
     "metadata": {
      "needs_background": "light"
     },
     "output_type": "display_data"
    }
   ],
   "source": [
    "# Clustered Bar Chart \n",
    "printmd('## Age vs Income')\n",
    "plt.figure(figsize=[8,6])\n",
    "ax = sns.barplot(data = cc, x = 'Income', y = 'Age', hue = 'Sex')\n",
    "ax.legend(loc = 8, ncol = 3, framealpha = 1, title = 'Sex')\n",
    "plt.title('Average of Age for Sex relative to Income')\n",
    "plt.xlabel('Income ($)')\n",
    "plt.ylabel('Average of Age');\n",
    "printmd('The higher average age tends to make more than 50k. \\\n",
    "        In both cases, males have higher income than women.\\\n",
    "        ')"
   ]
  },
  {
   "cell_type": "code",
   "execution_count": 296,
   "metadata": {},
   "outputs": [
    {
     "data": {
      "text/markdown": [
       "## Education vs Income"
      ],
      "text/plain": [
       "<IPython.core.display.Markdown object>"
      ]
     },
     "metadata": {},
     "output_type": "display_data"
    },
    {
     "data": {
      "text/markdown": [
       "Graph shows the proportion of income classes across years of education         As expected, the more years of education the better chances to earn more than 50K a yr        Now, who are the pleople of years 13-14 of education."
      ],
      "text/plain": [
       "<IPython.core.display.Markdown object>"
      ]
     },
     "metadata": {},
     "output_type": "display_data"
    },
    {
     "data": {
      "image/png": "[encoded data removed]",
      "text/plain": [
       "<Figure size 720x576 with 1 Axes>"
      ]
     },
     "metadata": {
      "needs_background": "light"
     },
     "output_type": "display_data"
    }
   ],
   "source": [
    "printmd('## Education vs Income')\n",
    "\n",
    "EducationNum = round(pd.crosstab(cc.EducationNum, cc.Income).div(pd.crosstab(cc.EducationNum, cc.Income).apply(sum,1),0),2)\n",
    "\n",
    "ax = EducationNum.plot(kind ='bar', title = 'Proportion distribution across education number of years', figsize = (10,8))\n",
    "ax.set_xlabel('Education Number of years')\n",
    "ax.set_ylabel('Proportion of population')\n",
    "\n",
    "printmd('Graph shows the proportion of income classes across years of education \\\n",
    "        As expected, the more years of education the better chances to earn more than 50K a yr\\\n",
    "        Now, who are the pleople of years 13-14 of education.')"
   ]
  },
  {
   "cell_type": "code",
   "execution_count": 297,
   "metadata": {},
   "outputs": [
    {
     "data": {
      "text/markdown": [
       "## Occupation vs Income"
      ],
      "text/plain": [
       "<IPython.core.display.Markdown object>"
      ]
     },
     "metadata": {},
     "output_type": "display_data"
    },
    {
     "data": {
      "text/markdown": [
       "Graph shows Executive Managerial and Professional specialty occupations tend to earn more than 50K"
      ],
      "text/plain": [
       "<IPython.core.display.Markdown object>"
      ]
     },
     "metadata": {},
     "output_type": "display_data"
    },
    {
     "data": {
      "image/png": "[encoded data removed]",
      "text/plain": [
       "<Figure size 720x576 with 1 Axes>"
      ]
     },
     "metadata": {
      "needs_background": "light"
     },
     "output_type": "display_data"
    }
   ],
   "source": [
    "printmd('## Occupation vs Income')\n",
    "\n",
    "Occupation = round(pd.crosstab(cc.Occupation, cc.Income).div(pd.crosstab(cc.Occupation, cc.Income).apply(sum,1),0),2)\n",
    "\n",
    "ax = Occupation.plot(kind ='bar', title = 'Proportion distribution across occupation', figsize = (10,8))\n",
    "ax.set_xlabel('Occupation')\n",
    "ax.set_ylabel('Proportion of population')\n",
    "\n",
    "printmd('Graph shows Executive Managerial and Professional specialty occupations tend to earn more than 50K')"
   ]
  },
  {
   "cell_type": "code",
   "execution_count": 298,
   "metadata": {},
   "outputs": [
    {
     "data": {
      "text/markdown": [
       "## Gender vs Income"
      ],
      "text/plain": [
       "<IPython.core.display.Markdown object>"
      ]
     },
     "metadata": {},
     "output_type": "display_data"
    },
    {
     "data": {
      "text/markdown": [
       "Women make less than man. Maybe this data is skewed towards man in executive positions and women in other          positions that guarantee to make less than 50K?"
      ],
      "text/plain": [
       "<IPython.core.display.Markdown object>"
      ]
     },
     "metadata": {},
     "output_type": "display_data"
    },
    {
     "data": {
      "image/png": "[encoded data removed]",
      "text/plain": [
       "<Figure size 720x576 with 1 Axes>"
      ]
     },
     "metadata": {
      "needs_background": "light"
     },
     "output_type": "display_data"
    }
   ],
   "source": [
    "printmd('## Gender vs Income')\n",
    "\n",
    "Sex = round(pd.crosstab(cc.Sex, cc.Income).div(pd.crosstab(cc.Sex, cc.Income).apply(sum,1),0),2)\n",
    "\n",
    "ax = Sex.plot(kind ='bar', title = 'Proportion distribution across occupation', figsize = (10,8))\n",
    "ax.set_xlabel('Gender')\n",
    "ax.set_ylabel('Proportion of population')\n",
    "\n",
    "printmd('Women make less than man. Maybe this data is skewed towards man in executive positions and women in other \\\n",
    "         positions that guarantee to make less than 50K?')"
   ]
  },
  {
   "cell_type": "code",
   "execution_count": 303,
   "metadata": {},
   "outputs": [
    {
     "data": {
      "text/markdown": [
       "## Proportion distribution across gender for each workclass"
      ],
      "text/plain": [
       "<IPython.core.display.Markdown object>"
      ]
     },
     "metadata": {},
     "output_type": "display_data"
    },
    {
     "data": {
      "text/markdown": [
       "Income between men and women making more than 50K"
      ],
      "text/plain": [
       "<IPython.core.display.Markdown object>"
      ]
     },
     "metadata": {},
     "output_type": "display_data"
    },
    {
     "data": {
      "image/png": "[encoded data removed]",
      "text/plain": [
       "<Figure size 720x576 with 1 Axes>"
      ]
     },
     "metadata": {
      "needs_background": "light"
     },
     "output_type": "display_data"
    }
   ],
   "source": [
    "printmd('## Proportion distribution across gender for each workclass')\n",
    "Gender_workclass = round(pd.crosstab(cc.Workclass, [cc.Income, cc.Sex]).div(pd.crosstab(cc.Workclass, [cc.Income, cc.Sex]).apply(sum,1),0),2)\n",
    "Gender_workclass[[('>50K','Male'), ('>50K','Female')]].plot(kind = 'bar', title = '', figsize = (10,8), rot = 30)\n",
    "ax.set_xlabel('Gender')\n",
    "ax.set_ylabel('Proportion of population')\n",
    "\n",
    "printmd('Income between men and women making more than 50K')"
   ]
  },
  {
   "cell_type": "code",
   "execution_count": 311,
   "metadata": {},
   "outputs": [
    {
     "data": {
      "text/markdown": [
       "## Education years by Gender"
      ],
      "text/plain": [
       "<IPython.core.display.Markdown object>"
      ]
     },
     "metadata": {},
     "output_type": "display_data"
    },
    {
     "data": {
      "text/markdown": [
       "Males tend to have higher education"
      ],
      "text/plain": [
       "<IPython.core.display.Markdown object>"
      ]
     },
     "metadata": {},
     "output_type": "display_data"
    },
    {
     "data": {
      "image/png": "[encoded data removed]",
      "text/plain": [
       "<Figure size 720x576 with 1 Axes>"
      ]
     },
     "metadata": {
      "needs_background": "light"
     },
     "output_type": "display_data"
    }
   ],
   "source": [
    "printmd('## Education years by Gender')\n",
    "EducationNum2 = round(pd.crosstab(cc.EducationNum, [cc.Income, cc.Sex]).div(pd.crosstab(cc.EducationNum, cc.Sex).apply(sum,1),0),2)\n",
    "\n",
    "ax = EducationNum2[[('>50K','Male'), ('>50K','Female')]].plot(kind = 'bar', title = '', figsize = (10,8), rot = 30)\n",
    "ax.set_xlabel('Education Number of years')\n",
    "ax.set_ylabel('Proportion of population')\n",
    "\n",
    "printmd('Males tend to have higher education')"
   ]
  },
  {
   "cell_type": "code",
   "execution_count": 312,
   "metadata": {},
   "outputs": [
    {
     "data": {
      "text/plain": [
       "<matplotlib.axes._subplots.AxesSubplot at 0x281af977d30>"
      ]
     },
     "execution_count": 312,
     "metadata": {},
     "output_type": "execute_result"
    },
    {
     "data": {
      "image/png": "[encoded data removed]",
      "text/plain": [
       "<Figure size 720x576 with 1 Axes>"
      ]
     },
     "metadata": {
      "needs_background": "light"
     },
     "output_type": "display_data"
    }
   ],
   "source": [
    "# Outliers\n",
    "cc.select_dtypes(exclude = 'category').plot(kind = 'box', figsize = (10,8))"
   ]
  },
  {
   "cell_type": "markdown",
   "metadata": {},
   "source": [
    "# V\tFitting an ML Model"
   ]
  },
  {
   "cell_type": "markdown",
   "metadata": {},
   "source": [
    "### Dummy encode the dataset"
   ]
  },
  {
   "cell_type": "code",
   "execution_count": 313,
   "metadata": {},
   "outputs": [],
   "source": [
    "# Drop Income and Sex because it is represented in dummy coded columns\n",
    "# cc dataset without the columns Income and Sex becomes cc_data\n",
    "cc_data = cc.drop(columns = ['Income','Sex'])"
   ]
  },
  {
   "cell_type": "code",
   "execution_count": 314,
   "metadata": {},
   "outputs": [
    {
     "data": {
      "text/html": [
       "<div>\n",
       "<style scoped>\n",
       "    .dataframe tbody tr th:only-of-type {\n",
       "        vertical-align: middle;\n",
       "    }\n",
       "\n",
       "    .dataframe tbody tr th {\n",
       "        vertical-align: top;\n",
       "    }\n",
       "\n",
       "    .dataframe thead th {\n",
       "        text-align: right;\n",
       "    }\n",
       "</style>\n",
       "<table border=\"1\" class=\"dataframe\">\n",
       "  <thead>\n",
       "    <tr style=\"text-align: right;\">\n",
       "      <th></th>\n",
       "      <th>Age</th>\n",
       "      <th>Workclass</th>\n",
       "      <th>EducationNum</th>\n",
       "      <th>Occupation</th>\n",
       "      <th>Relationship</th>\n",
       "      <th>Race</th>\n",
       "      <th>CapitalGain</th>\n",
       "      <th>CapitalLoss</th>\n",
       "      <th>HoursPerWeek</th>\n",
       "      <th>NativeCountry</th>\n",
       "      <th>LessEqualThan50</th>\n",
       "      <th>MoreThan50</th>\n",
       "      <th>Female</th>\n",
       "      <th>Male</th>\n",
       "    </tr>\n",
       "  </thead>\n",
       "  <tbody>\n",
       "    <tr>\n",
       "      <th>0</th>\n",
       "      <td>39</td>\n",
       "      <td>State-gov</td>\n",
       "      <td>13</td>\n",
       "      <td>Adm-clerical</td>\n",
       "      <td>Not-in-family</td>\n",
       "      <td>White</td>\n",
       "      <td>2174</td>\n",
       "      <td>0</td>\n",
       "      <td>40</td>\n",
       "      <td>United-States</td>\n",
       "      <td>1</td>\n",
       "      <td>0</td>\n",
       "      <td>0</td>\n",
       "      <td>1</td>\n",
       "    </tr>\n",
       "  </tbody>\n",
       "</table>\n",
       "</div>"
      ],
      "text/plain": [
       "   Age  Workclass  EducationNum    Occupation   Relationship   Race  \\\n",
       "0   39  State-gov            13  Adm-clerical  Not-in-family  White   \n",
       "\n",
       "   CapitalGain  CapitalLoss  HoursPerWeek  NativeCountry  LessEqualThan50  \\\n",
       "0         2174            0            40  United-States                1   \n",
       "\n",
       "   MoreThan50  Female  Male  \n",
       "0           0       0     1  "
      ]
     },
     "execution_count": 314,
     "metadata": {},
     "output_type": "execute_result"
    }
   ],
   "source": [
    "cc_data.head(1)"
   ]
  },
  {
   "cell_type": "code",
   "execution_count": 316,
   "metadata": {},
   "outputs": [
    {
     "name": "stdout",
     "output_type": "stream",
     "text": [
      "<class 'pandas.core.frame.DataFrame'>\n",
      "Int64Index: 45222 entries, 0 to 48841\n",
      "Data columns (total 14 columns):\n",
      " #   Column           Non-Null Count  Dtype \n",
      "---  ------           --------------  ----- \n",
      " 0   Age              45222 non-null  int64 \n",
      " 1   Workclass        45222 non-null  object\n",
      " 2   EducationNum     45222 non-null  int64 \n",
      " 3   Occupation       45222 non-null  object\n",
      " 4   Relationship     45222 non-null  object\n",
      " 5   Race             45222 non-null  object\n",
      " 6   CapitalGain      45222 non-null  int64 \n",
      " 7   CapitalLoss      45222 non-null  int64 \n",
      " 8   HoursPerWeek     45222 non-null  int64 \n",
      " 9   NativeCountry    45222 non-null  object\n",
      " 10  LessEqualThan50  45222 non-null  uint8 \n",
      " 11  MoreThan50       45222 non-null  uint8 \n",
      " 12  Female           45222 non-null  uint8 \n",
      " 13  Male             45222 non-null  uint8 \n",
      "dtypes: int64(5), object(5), uint8(4)\n",
      "memory usage: 5.2+ MB\n"
     ]
    }
   ],
   "source": [
    "# Check data type\n",
    "cc_data.info()"
   ]
  },
  {
   "cell_type": "code",
   "execution_count": 317,
   "metadata": {},
   "outputs": [],
   "source": [
    "# Create dummy variables\n",
    "cc_data_1hot = pd.get_dummies(cc_data)"
   ]
  },
  {
   "cell_type": "code",
   "execution_count": 321,
   "metadata": {},
   "outputs": [
    {
     "name": "stdout",
     "output_type": "stream",
     "text": [
      "<class 'pandas.core.frame.DataFrame'>\n",
      "Int64Index: 45222 entries, 0 to 48841\n",
      "Data columns (total 82 columns):\n",
      " #   Column                                    Non-Null Count  Dtype\n",
      "---  ------                                    --------------  -----\n",
      " 0   Age                                       45222 non-null  int64\n",
      " 1   EducationNum                              45222 non-null  int64\n",
      " 2   CapitalGain                               45222 non-null  int64\n",
      " 3   CapitalLoss                               45222 non-null  int64\n",
      " 4   HoursPerWeek                              45222 non-null  int64\n",
      " 5   LessEqualThan50                           45222 non-null  uint8\n",
      " 6   MoreThan50                                45222 non-null  uint8\n",
      " 7   Female                                    45222 non-null  uint8\n",
      " 8   Male                                      45222 non-null  uint8\n",
      " 9   Workclass_Federal-gov                     45222 non-null  uint8\n",
      " 10  Workclass_Local-gov                       45222 non-null  uint8\n",
      " 11  Workclass_Private                         45222 non-null  uint8\n",
      " 12  Workclass_Self-emp-inc                    45222 non-null  uint8\n",
      " 13  Workclass_Self-emp-not-inc                45222 non-null  uint8\n",
      " 14  Workclass_State-gov                       45222 non-null  uint8\n",
      " 15  Workclass_Without-pay                     45222 non-null  uint8\n",
      " 16  Occupation_Adm-clerical                   45222 non-null  uint8\n",
      " 17  Occupation_Armed-Forces                   45222 non-null  uint8\n",
      " 18  Occupation_Craft-repair                   45222 non-null  uint8\n",
      " 19  Occupation_Exec-managerial                45222 non-null  uint8\n",
      " 20  Occupation_Farming-fishing                45222 non-null  uint8\n",
      " 21  Occupation_Handlers-cleaners              45222 non-null  uint8\n",
      " 22  Occupation_Machine-op-inspct              45222 non-null  uint8\n",
      " 23  Occupation_Other-service                  45222 non-null  uint8\n",
      " 24  Occupation_Priv-house-serv                45222 non-null  uint8\n",
      " 25  Occupation_Prof-specialty                 45222 non-null  uint8\n",
      " 26  Occupation_Protective-serv                45222 non-null  uint8\n",
      " 27  Occupation_Sales                          45222 non-null  uint8\n",
      " 28  Occupation_Tech-support                   45222 non-null  uint8\n",
      " 29  Occupation_Transport-moving               45222 non-null  uint8\n",
      " 30  Relationship_Husband                      45222 non-null  uint8\n",
      " 31  Relationship_Not-in-family                45222 non-null  uint8\n",
      " 32  Relationship_Other-relative               45222 non-null  uint8\n",
      " 33  Relationship_Own-child                    45222 non-null  uint8\n",
      " 34  Relationship_Unmarried                    45222 non-null  uint8\n",
      " 35  Relationship_Wife                         45222 non-null  uint8\n",
      " 36  Race_Amer-Indian-Eskimo                   45222 non-null  uint8\n",
      " 37  Race_Asian-Pac-Islander                   45222 non-null  uint8\n",
      " 38  Race_Black                                45222 non-null  uint8\n",
      " 39  Race_Other                                45222 non-null  uint8\n",
      " 40  Race_White                                45222 non-null  uint8\n",
      " 41  NativeCountry_Cambodia                    45222 non-null  uint8\n",
      " 42  NativeCountry_Canada                      45222 non-null  uint8\n",
      " 43  NativeCountry_China                       45222 non-null  uint8\n",
      " 44  NativeCountry_Columbia                    45222 non-null  uint8\n",
      " 45  NativeCountry_Cuba                        45222 non-null  uint8\n",
      " 46  NativeCountry_Dominican-Republic          45222 non-null  uint8\n",
      " 47  NativeCountry_Ecuador                     45222 non-null  uint8\n",
      " 48  NativeCountry_El-Salvador                 45222 non-null  uint8\n",
      " 49  NativeCountry_England                     45222 non-null  uint8\n",
      " 50  NativeCountry_France                      45222 non-null  uint8\n",
      " 51  NativeCountry_Germany                     45222 non-null  uint8\n",
      " 52  NativeCountry_Greece                      45222 non-null  uint8\n",
      " 53  NativeCountry_Guatemala                   45222 non-null  uint8\n",
      " 54  NativeCountry_Haiti                       45222 non-null  uint8\n",
      " 55  NativeCountry_Holand-Netherlands          45222 non-null  uint8\n",
      " 56  NativeCountry_Honduras                    45222 non-null  uint8\n",
      " 57  NativeCountry_Hong                        45222 non-null  uint8\n",
      " 58  NativeCountry_Hungary                     45222 non-null  uint8\n",
      " 59  NativeCountry_India                       45222 non-null  uint8\n",
      " 60  NativeCountry_Iran                        45222 non-null  uint8\n",
      " 61  NativeCountry_Ireland                     45222 non-null  uint8\n",
      " 62  NativeCountry_Italy                       45222 non-null  uint8\n",
      " 63  NativeCountry_Jamaica                     45222 non-null  uint8\n",
      " 64  NativeCountry_Japan                       45222 non-null  uint8\n",
      " 65  NativeCountry_Laos                        45222 non-null  uint8\n",
      " 66  NativeCountry_Mexico                      45222 non-null  uint8\n",
      " 67  NativeCountry_Nicaragua                   45222 non-null  uint8\n",
      " 68  NativeCountry_Outlying-US(Guam-USVI-etc)  45222 non-null  uint8\n",
      " 69  NativeCountry_Peru                        45222 non-null  uint8\n",
      " 70  NativeCountry_Philippines                 45222 non-null  uint8\n",
      " 71  NativeCountry_Poland                      45222 non-null  uint8\n",
      " 72  NativeCountry_Portugal                    45222 non-null  uint8\n",
      " 73  NativeCountry_Puerto-Rico                 45222 non-null  uint8\n",
      " 74  NativeCountry_Scotland                    45222 non-null  uint8\n",
      " 75  NativeCountry_South                       45222 non-null  uint8\n",
      " 76  NativeCountry_Taiwan                      45222 non-null  uint8\n",
      " 77  NativeCountry_Thailand                    45222 non-null  uint8\n",
      " 78  NativeCountry_Trinadad&Tobago             45222 non-null  uint8\n",
      " 79  NativeCountry_United-States               45222 non-null  uint8\n",
      " 80  NativeCountry_Vietnam                     45222 non-null  uint8\n",
      " 81  NativeCountry_Yugoslavia                  45222 non-null  uint8\n",
      "dtypes: int64(5), uint8(77)\n",
      "memory usage: 6.6 MB\n"
     ]
    }
   ],
   "source": [
    "# Check data type, all should be numeric\n",
    "cc_data_1hot.info()"
   ]
  },
  {
   "cell_type": "code",
   "execution_count": 322,
   "metadata": {},
   "outputs": [
    {
     "name": "stdout",
     "output_type": "stream",
     "text": [
      "82 total features after one-hot encoding.\n"
     ]
    }
   ],
   "source": [
    "encoded = list(cc_data_1hot.columns)\n",
    "print(\"{} total features after one-hot encoding.\".format(len(encoded)))"
   ]
  },
  {
   "cell_type": "markdown",
   "metadata": {},
   "source": [
    "## Split the Dataset"
   ]
  },
  {
   "cell_type": "code",
   "execution_count": 323,
   "metadata": {},
   "outputs": [],
   "source": [
    "# Partioning the data\n",
    "X = cc_data_1hot.drop('MoreThan50', axis=1)\n",
    "y = cc_data_1hot['MoreThan50']\n"
   ]
  },
  {
   "cell_type": "code",
   "execution_count": 324,
   "metadata": {},
   "outputs": [],
   "source": [
    "X = X.drop('LessEqualThan50', axis=1)"
   ]
  },
  {
   "cell_type": "code",
   "execution_count": 325,
   "metadata": {},
   "outputs": [],
   "source": [
    "# Splitting to training and testing\n",
    "X_train, X_test, y_train, y_test = train_test_split(X, y, test_size=0.2, random_state=42)\n",
    "\n",
    "#X_train, X_test, y_train, y_test = train_test_split(X, y, random_state = 10)"
   ]
  },
  {
   "cell_type": "markdown",
   "metadata": {},
   "source": [
    "## Model Development"
   ]
  },
  {
   "cell_type": "markdown",
   "metadata": {},
   "source": [
    "### Dummy Classifier "
   ]
  },
  {
   "cell_type": "code",
   "execution_count": 326,
   "metadata": {},
   "outputs": [
    {
     "name": "stdout",
     "output_type": "stream",
     "text": [
      "Confusion matrix for DummyClassifier is : \n",
      " \n",
      " [[6745    0]\n",
      " [2300    0]]\n"
     ]
    }
   ],
   "source": [
    "dummy = DummyClassifier(strategy = 'most_frequent', random_state=0)\n",
    "dummy.fit(X_train, y_train)\n",
    "\n",
    "#To get prediction on X\n",
    "\n",
    "ydummy_train = dummy.predict(X_train)\n",
    "ydummy_train[0:5]\n",
    "\n",
    "#To get prediction on y\n",
    "ydummy_test = dummy.predict(X_test)\n",
    "print ('Confusion matrix for DummyClassifier is : \\n \\n', confusion_matrix(y_test,ydummy_test))\n"
   ]
  },
  {
   "cell_type": "code",
   "execution_count": 327,
   "metadata": {},
   "outputs": [
    {
     "name": "stdout",
     "output_type": "stream",
     "text": [
      "Accuracy score for DummyClassifier is : \n",
      " \n",
      " 0.7457158651188502\n"
     ]
    }
   ],
   "source": [
    "##Accuracy of dummy classifier ( #so most Machine learning model should do better than this.)\n",
    "print ('Accuracy score for DummyClassifier is : \\n \\n', accuracy_score(y_test, ydummy_test))"
   ]
  },
  {
   "cell_type": "code",
   "execution_count": 328,
   "metadata": {},
   "outputs": [],
   "source": [
    "# Import classification models\n",
    "from sklearn.ensemble import RandomForestClassifier\n",
    "from sklearn.ensemble import AdaBoostClassifier\n",
    "from sklearn.linear_model import LogisticRegression\n",
    "\n",
    "# Import functions\n",
    "from sklearn.model_selection import cross_validate\n",
    "from sklearn.metrics import accuracy_score\n",
    "from sklearn.metrics import f1_score\n",
    "\n",
    "import warnings\n",
    "warnings.filterwarnings(\"ignore\")"
   ]
  },
  {
   "cell_type": "code",
   "execution_count": 329,
   "metadata": {},
   "outputs": [],
   "source": [
    "models = {}\n",
    "\n",
    "# models with default parameter\n",
    "models['LogisticRegression'] = LogisticRegression()\n",
    "models['RandomForest'] = RandomForestClassifier()\n",
    "models['AdaBoost'] = AdaBoostClassifier()"
   ]
  },
  {
   "cell_type": "code",
   "execution_count": 330,
   "metadata": {},
   "outputs": [
    {
     "name": "stdout",
     "output_type": "stream",
     "text": [
      "LogisticRegression:\n",
      "Accuracy: train:  0.8301435786735818 | test:  0.8316967719268907\n",
      "F1-score: train:  0.6120319224211215 | test:  0.6151176056864084\n",
      "---------------------------------------------------------\n",
      "RandomForest:\n",
      "Accuracy: train:  0.9717836450621791 | test:  0.8449426830171713\n",
      "F1-score: train:  0.9422360312969411 | test:  0.6671072275070316\n",
      "---------------------------------------------------------\n",
      "AdaBoost:\n",
      "Accuracy: train:  0.8580447618711566 | test:  0.8569503238146092\n",
      "F1-score: train:  0.6810413274790501 | test:  0.6783695597890371\n",
      "---------------------------------------------------------\n"
     ]
    }
   ],
   "source": [
    "# Cross validation\n",
    "for model_name in models:\n",
    "    model = models[model_name]\n",
    "    results = cross_validate(model, X, y, cv=5, scoring=['accuracy', 'f1'], return_train_score=True)\n",
    "    \n",
    "    print(model_name + \":\")\n",
    "    print(\"Accuracy:\" , 'train: ', results['train_accuracy'].mean(), '| test: ', results['test_accuracy'].mean())\n",
    "    print(\"F1-score:\" , 'train: ', results['train_f1'].mean(), '| test: ', results['test_f1'].mean())\n",
    "    print(\"---------------------------------------------------------\")"
   ]
  },
  {
   "cell_type": "code",
   "execution_count": 334,
   "metadata": {},
   "outputs": [
    {
     "data": {
      "text/markdown": [
       "Models Definitions: Logistic regression, despite its name, is a linear model for classification rather than regression. In this model, the probabilities describing the possible outcomes of a single trial are modeled using a logistic function. A Random forest is a meta estimator that fits several decision tree classifiers on various sub-samples of the dataset and uses averaging to improve the predictive accuracy and control over-fitting. An AdaBoost classifier is a meta-estimator that begins by fitting a classifier on the original dataset and then fits additional copies of the classifier on the same dataset but where the weights of incorrectly classified instances are adjusted such that subsequent classifiers focus more on difficult cases."
      ],
      "text/plain": [
       "<IPython.core.display.Markdown object>"
      ]
     },
     "metadata": {},
     "output_type": "display_data"
    }
   ],
   "source": [
    "printmd('Models Definitions: Logistic regression, despite its name, is a linear model for classification rather than regression. In this model, the probabilities describing the possible outcomes of a single trial are modeled using a logistic function. A Random forest is a meta estimator that fits several decision tree classifiers on various sub-samples of the dataset and uses averaging to improve the predictive accuracy and control over-fitting. An AdaBoost classifier is a meta-estimator that begins by fitting a classifier on the original dataset and then fits additional copies of the classifier on the same dataset but where the weights of incorrectly classified instances are adjusted such that subsequent classifiers focus more on difficult cases.')\n"
   ]
  },
  {
   "cell_type": "code",
   "execution_count": null,
   "metadata": {},
   "outputs": [],
   "source": []
  },
  {
   "cell_type": "markdown",
   "metadata": {},
   "source": [
    "### Logistic Regression"
   ]
  },
  {
   "cell_type": "code",
   "execution_count": 375,
   "metadata": {},
   "outputs": [],
   "source": [
    "logr = LogisticRegression(solver='lbfgs', class_weight=\"balanced\")\n",
    "lr = logr.fit(X_train,y_train)\n",
    "ypred_train_logr = logr.predict(X_train)\n",
    "ypred_test_logr = logr.predict(X_test)"
   ]
  },
  {
   "cell_type": "code",
   "execution_count": 376,
   "metadata": {},
   "outputs": [
    {
     "name": "stdout",
     "output_type": "stream",
     "text": [
      "First 8 Predictions for training data are:  [0 1 0 1 0 0 0 0]\n",
      "First 8 Predictions for test data are:  [1 0 0 0 0 0 0 0]\n"
     ]
    }
   ],
   "source": [
    "print ('First 8 Predictions for training data are: ', ypred_train_logr[:8])\n",
    "print ('First 8 Predictions for test data are: ', ypred_test_logr[:8])\n"
   ]
  },
  {
   "cell_type": "code",
   "execution_count": 377,
   "metadata": {},
   "outputs": [
    {
     "name": "stdout",
     "output_type": "stream",
     "text": [
      "confusion matrix for training data is : \n",
      " [[21550  5719]\n",
      " [ 1856  7052]] \n",
      " \n",
      "\n",
      "confusion_matrix for test data is : \n",
      " [[5452 1293]\n",
      " [ 480 1820]] \n",
      "\n"
     ]
    }
   ],
   "source": [
    "print ('confusion matrix for training data is : \\n', confusion_matrix(y_train,ypred_train_logr), '\\n', '\\n')\n",
    "print ('confusion_matrix for test data is : \\n', confusion_matrix(y_test,ypred_test_logr), '\\n')\n"
   ]
  },
  {
   "cell_type": "code",
   "execution_count": 378,
   "metadata": {},
   "outputs": [
    {
     "name": "stdout",
     "output_type": "stream",
     "text": [
      "Accuracy for train data is : \n",
      " 0.7906128203001908 \n",
      "\n",
      "Recall for train data is : \n",
      " 0.7916479568926807 \n",
      "\n",
      "Precision for train data is : \n",
      " 0.5521885521885522 \n",
      "\n",
      "f1-score for train data is : \n",
      " 0.6505835139997233 \n",
      "\n"
     ]
    }
   ],
   "source": [
    "#comm='''\n",
    "#ACCURACY,RECALL PRECISION (TRAINING DATA)\n",
    "print ('Accuracy for train data is : \\n', accuracy_score(y_train,ypred_train_logr), '\\n')\n",
    "print ('Recall for train data is : \\n', recall_score(y_train,ypred_train_logr), '\\n')\n",
    "print ('Precision for train data is : \\n', precision_score(y_train,ypred_train_logr), '\\n')\n",
    "print ('f1-score for train data is : \\n', f1_score(y_train,ypred_train_logr), '\\n')\n",
    "\n",
    "#pos_label=1 need to define***\n",
    "#'''"
   ]
  },
  {
   "cell_type": "markdown",
   "metadata": {},
   "source": [
    "### Predicting Probability "
   ]
  },
  {
   "cell_type": "code",
   "execution_count": 379,
   "metadata": {},
   "outputs": [
    {
     "data": {
      "text/plain": [
       "array([[0.176, 0.824],\n",
       "       [0.685, 0.315],\n",
       "       [0.805, 0.195],\n",
       "       [0.552, 0.448],\n",
       "       [0.593, 0.407],\n",
       "       [0.602, 0.398],\n",
       "       [0.578, 0.422],\n",
       "       [0.954, 0.046],\n",
       "       [0.949, 0.051]])"
      ]
     },
     "execution_count": 379,
     "metadata": {},
     "output_type": "execute_result"
    }
   ],
   "source": [
    "yprob_test_logr = logr.predict_proba(X_test) #just seeign the probabilities as it is\n",
    "yprob_test_logr[0:9,:].round(3) # Probabilities that the target variable is 0, 1 coz of x and y in the curve"
   ]
  },
  {
   "cell_type": "markdown",
   "metadata": {},
   "source": [
    "###  Threshold Scores"
   ]
  },
  {
   "cell_type": "code",
   "execution_count": 380,
   "metadata": {},
   "outputs": [
    {
     "name": "stdout",
     "output_type": "stream",
     "text": [
      "Scores for threshold value of:  0.5 \n",
      "\n",
      "Accuracy for test data is : \n",
      " 0.6403537866224434 \n",
      "\n",
      "Recall for test data is : \n",
      " 0.9678260869565217 \n",
      "\n",
      "Precision for test data is : \n",
      " 0.411840888066605 \n",
      "\n",
      "f1 score for test data is : \n",
      " 0.5778066190785204 \n",
      "\n"
     ]
    }
   ],
   "source": [
    "print ('Scores for threshold value of: ', 0.5, '\\n')\n",
    "print ('Accuracy for test data is : \\n', accuracy_score(y_test,yprob_test_logr[:,1] > 0.2), '\\n')\n",
    "print ('Recall for test data is : \\n', recall_score(y_test,yprob_test_logr[:,1] > 0.2), '\\n')\n",
    "print ('Precision for test data is : \\n', precision_score(y_test,yprob_test_logr[:,1] > 0.2), '\\n')\n",
    "print ('f1 score for test data is : \\n', f1_score(y_test,yprob_test_logr[:,1] > 0.2), '\\n')\n"
   ]
  },
  {
   "cell_type": "markdown",
   "metadata": {},
   "source": [
    "## ROC Curve"
   ]
  },
  {
   "cell_type": "code",
   "execution_count": 386,
   "metadata": {},
   "outputs": [
    {
     "data": {
      "image/png": "[encoded data removed]",
      "text/plain": [
       "<Figure size 576x360 with 1 Axes>"
      ]
     },
     "metadata": {
      "needs_background": "light"
     },
     "output_type": "display_data"
    },
    {
     "name": "stdout",
     "output_type": "stream",
     "text": [
      "AUC Score for logistic regression is 0.8907444161536725\n"
     ]
    }
   ],
   "source": [
    "from sklearn.metrics import roc_curve, roc_auc_score, auc\n",
    "\n",
    "fpr_logr, tpr_logr,_ = roc_curve(y_test,yprob_test_logr[:,1])\n",
    "auc_logr = auc(fpr_logr, tpr_logr)\n",
    "\n",
    "fig = plt.figure(figsize = (8,5))\n",
    "\n",
    "plt.plot(fpr_logr,tpr_logr, label = 'AUC score is : ' + str(auc_logr))\n",
    "plt.xlabel('fpr', fontsize = 10)\n",
    "plt.ylabel('tpr', fontsize = 10)\n",
    "plt.xlim([-0.01,1])\n",
    "plt.ylim([0,1.01])\n",
    "plt.legend()\n",
    "\n",
    "plt.plot([0,1],[0,1],'r--')\n",
    "plt.show()\n",
    "\n",
    "print ('AUC Score for logistic regression is', roc_auc_score(y_test,yprob_test_logr[:,1]))"
   ]
  },
  {
   "cell_type": "code",
   "execution_count": null,
   "metadata": {},
   "outputs": [],
   "source": []
  },
  {
   "cell_type": "markdown",
   "metadata": {},
   "source": [
    "# VI Features Importance"
   ]
  },
  {
   "cell_type": "code",
   "execution_count": 336,
   "metadata": {},
   "outputs": [],
   "source": [
    "from sklearn.preprocessing import LabelEncoder"
   ]
  },
  {
   "cell_type": "code",
   "execution_count": 362,
   "metadata": {},
   "outputs": [],
   "source": [
    "cens_conc = cc_data.copy()"
   ]
  },
  {
   "cell_type": "code",
   "execution_count": 363,
   "metadata": {},
   "outputs": [],
   "source": [
    "for col in cens_conc.columns:\n",
    "    if cens_conc[col].dtypes == 'object':\n",
    "        encoder = LabelEncoder()\n",
    "        cens_conc[col] = encoder.fit_transform(cens_conc[col])"
   ]
  },
  {
   "cell_type": "code",
   "execution_count": 364,
   "metadata": {},
   "outputs": [],
   "source": [
    "# Partioning the data\n",
    "Xc = cens_conc.drop('MoreThan50', axis=1)\n",
    "yc = cens_conc['MoreThan50']"
   ]
  },
  {
   "cell_type": "code",
   "execution_count": 365,
   "metadata": {},
   "outputs": [],
   "source": [
    "# Partioning the data\n",
    "Xc = Xc.drop('LessEqualThan50', axis=1)"
   ]
  },
  {
   "cell_type": "code",
   "execution_count": 366,
   "metadata": {},
   "outputs": [],
   "source": [
    "# Splitting to training and testing\n",
    "Xc_train, Xc_test, yc_train, yc_test = train_test_split(Xc, yc, test_size=0.2, random_state=42)"
   ]
  },
  {
   "cell_type": "code",
   "execution_count": 367,
   "metadata": {},
   "outputs": [
    {
     "name": "stdout",
     "output_type": "stream",
     "text": [
      "\n",
      "Features Importance:\n"
     ]
    },
    {
     "data": {
      "text/html": [
       "<div>\n",
       "<style scoped>\n",
       "    .dataframe tbody tr th:only-of-type {\n",
       "        vertical-align: middle;\n",
       "    }\n",
       "\n",
       "    .dataframe tbody tr th {\n",
       "        vertical-align: top;\n",
       "    }\n",
       "\n",
       "    .dataframe thead th {\n",
       "        text-align: right;\n",
       "    }\n",
       "</style>\n",
       "<table border=\"1\" class=\"dataframe\">\n",
       "  <thead>\n",
       "    <tr style=\"text-align: right;\">\n",
       "      <th></th>\n",
       "      <th>feature</th>\n",
       "      <th>importance</th>\n",
       "    </tr>\n",
       "  </thead>\n",
       "  <tbody>\n",
       "    <tr>\n",
       "      <th>0</th>\n",
       "      <td>Age</td>\n",
       "      <td>23.076484</td>\n",
       "    </tr>\n",
       "    <tr>\n",
       "      <th>1</th>\n",
       "      <td>Workclass</td>\n",
       "      <td>4.840972</td>\n",
       "    </tr>\n",
       "    <tr>\n",
       "      <th>2</th>\n",
       "      <td>EducationNum</td>\n",
       "      <td>13.513706</td>\n",
       "    </tr>\n",
       "    <tr>\n",
       "      <th>3</th>\n",
       "      <td>Occupation</td>\n",
       "      <td>8.291798</td>\n",
       "    </tr>\n",
       "    <tr>\n",
       "      <th>4</th>\n",
       "      <td>Relationship</td>\n",
       "      <td>15.792242</td>\n",
       "    </tr>\n",
       "    <tr>\n",
       "      <th>5</th>\n",
       "      <td>Race</td>\n",
       "      <td>1.737237</td>\n",
       "    </tr>\n",
       "    <tr>\n",
       "      <th>6</th>\n",
       "      <td>CapitalGain</td>\n",
       "      <td>12.981473</td>\n",
       "    </tr>\n",
       "    <tr>\n",
       "      <th>7</th>\n",
       "      <td>CapitalLoss</td>\n",
       "      <td>4.314648</td>\n",
       "    </tr>\n",
       "    <tr>\n",
       "      <th>8</th>\n",
       "      <td>HoursPerWeek</td>\n",
       "      <td>11.384345</td>\n",
       "    </tr>\n",
       "    <tr>\n",
       "      <th>9</th>\n",
       "      <td>NativeCountry</td>\n",
       "      <td>2.054252</td>\n",
       "    </tr>\n",
       "    <tr>\n",
       "      <th>10</th>\n",
       "      <td>Female</td>\n",
       "      <td>0.953658</td>\n",
       "    </tr>\n",
       "    <tr>\n",
       "      <th>11</th>\n",
       "      <td>Male</td>\n",
       "      <td>1.059186</td>\n",
       "    </tr>\n",
       "  </tbody>\n",
       "</table>\n",
       "</div>"
      ],
      "text/plain": [
       "          feature  importance\n",
       "0             Age   23.076484\n",
       "1       Workclass    4.840972\n",
       "2    EducationNum   13.513706\n",
       "3      Occupation    8.291798\n",
       "4    Relationship   15.792242\n",
       "5            Race    1.737237\n",
       "6     CapitalGain   12.981473\n",
       "7     CapitalLoss    4.314648\n",
       "8    HoursPerWeek   11.384345\n",
       "9   NativeCountry    2.054252\n",
       "10         Female    0.953658\n",
       "11           Male    1.059186"
      ]
     },
     "execution_count": 367,
     "metadata": {},
     "output_type": "execute_result"
    }
   ],
   "source": [
    "clf = RandomForestClassifier()\n",
    "clf.fit(Xc_train, yc_train)\n",
    "\n",
    "\n",
    "# View a list of the features and their importance scores\n",
    "print('\\nFeatures Importance:')\n",
    "feat_imp = pd.DataFrame(zip(Xc.columns.tolist(), clf.feature_importances_ * 100), columns=['feature', 'importance'])\n",
    "feat_imp"
   ]
  },
  {
   "cell_type": "code",
   "execution_count": 368,
   "metadata": {},
   "outputs": [
    {
     "data": {
      "image/png": "[encoded data removed]",
      "text/plain": [
       "<Figure size 1440x432 with 1 Axes>"
      ]
     },
     "metadata": {
      "needs_background": "light"
     },
     "output_type": "display_data"
    }
   ],
   "source": [
    "# Features importance plot\n",
    "plt.figure(figsize=[20,6])\n",
    "sns.barplot(data=feat_imp, x='feature', y='importance')\n",
    "plt.title('Features Importance', weight='bold', fontsize=20)\n",
    "plt.xlabel('Feature', weight='bold', fontsize=13)\n",
    "plt.ylabel('Importance (%)', weight='bold', fontsize=13);\n",
    "\n",
    "\n",
    "# add annotations\n",
    "impo = feat_imp['importance']\n",
    "locs, labels = plt.xticks()\n",
    "\n",
    "for loc, label in zip(locs, labels):\n",
    "    count = impo[loc]\n",
    "    pct_string = '{:0.2f}%'.format(count)\n",
    "\n",
    "    plt.text(loc, count-0.8, pct_string, ha = 'center', color = 'w', weight='bold')"
   ]
  }
 ],
 "metadata": {
  "kernelspec": {
   "display_name": "Python 3",
   "language": "python",
   "name": "python3"
  },
  "language_info": {
   "codemirror_mode": {
    "name": "ipython",
    "version": 3
   },
   "file_extension": ".py",
   "mimetype": "text/x-python",
   "name": "python",
   "nbconvert_exporter": "python",
   "pygments_lexer": "ipython3",
   "version": "3.8.3"
  }
 },
 "nbformat": 4,
 "nbformat_minor": 2
}
